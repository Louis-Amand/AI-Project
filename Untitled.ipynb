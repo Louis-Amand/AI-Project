{
 "cells": [
  {
   "cell_type": "code",
   "execution_count": null,
   "id": "d9217fa4-eb62-4edd-9a79-d3e1b0afae52",
   "metadata": {},
   "outputs": [],
   "source": []
  }
 ],
 "metadata": {
  "kernelspec": {
   "display_name": "",
   "name": ""
  },
  "language_info": {
   "name": ""
  }
 },
 "nbformat": 4,
 "nbformat_minor": 5
}

{
 "cells": [
  {
   "cell_type": "markdown",
   "metadata": {},
   "source": [
    "## Deep Learning\n",
    "\n",
    "### Réseaux de neurones"
   ]
  },
  {
   "cell_type": "markdown",
   "metadata": {},
   "source": [
    "#### Exercice 1 (fait avec Keras)."
   ]
  },
  {
   "cell_type": "code",
   "execution_count": 21,
   "metadata": {},
   "outputs": [],
   "source": [
    "import tensorflow as tf\n",
    "import keras\n",
    "import numpy as np\n",
    "import matplotlib\n",
    "import matplotlib.pyplot as plt"
   ]
  },
  {
   "cell_type": "code",
   "execution_count": 22,
   "metadata": {},
   "outputs": [],
   "source": [
    "from keras.datasets import mnist\n",
    "(X_train, y_train), (X_test, y_test) = mnist.load_data()"
   ]
  },
  {
   "cell_type": "code",
   "execution_count": 23,
   "metadata": {},
   "outputs": [
    {
     "name": "stdout",
     "output_type": "stream",
     "text": [
      "X_train shape:  (60000, 28, 28)\n",
      "y_train shape:  (60000,)\n"
     ]
    }
   ],
   "source": [
    "print('X_train shape: ',X_train.shape)\n",
    "print('y_train shape: ',y_train.shape)"
   ]
  },
  {
   "cell_type": "code",
   "execution_count": 24,
   "metadata": {},
   "outputs": [
    {
     "data": {
      "image/png": "[encoded data removed]",
      "text/plain": [
       "<Figure size 640x480 with 1 Axes>"
      ]
     },
     "metadata": {},
     "output_type": "display_data"
    },
    {
     "name": "stdout",
     "output_type": "stream",
     "text": [
      "0\n"
     ]
    }
   ],
   "source": [
    "from matplotlib import pyplot as plt\n",
    "import matplotlib.cm as cm\n",
    "plt.imshow(X_train[1000], cmap=cm.Greys)\n",
    "plt.show()\n",
    "\n",
    "print(y_train[1000])"
   ]
  },
  {
   "cell_type": "code",
   "execution_count": 25,
   "metadata": {},
   "outputs": [
    {
     "name": "stdout",
     "output_type": "stream",
     "text": [
      "784\n"
     ]
    }
   ],
   "source": [
    "X_train  = X_train / 255\n",
    "X_test  = X_test / 255\n",
    "num_pixels = X_train.shape[1] * X_train.shape[2]\n",
    "print(num_pixels)"
   ]
  },
  {
   "cell_type": "code",
   "execution_count": 26,
   "metadata": {},
   "outputs": [],
   "source": [
    "y_new = np.zeros(y_train.shape)\n",
    "y_new[np.where(y_train==5.0)[0]] = 1\n",
    "y_train = y_new\n",
    "\n",
    "y_new = np.zeros(y_test.shape)\n",
    "y_new[np.where(y_test==5.0)[0]] = 1\n",
    "y_test = y_new"
   ]
  },
  {
   "cell_type": "code",
   "execution_count": 27,
   "metadata": {},
   "outputs": [],
   "source": [
    "#Si vous travaillez avec tensorflow2, modifiez remplacez les deux lignes suivantes par ce qui suit :\n",
    "#from tensorflow.keras.utils import to_categorical\n",
    "#y_train = to_categorical(y_train)\n",
    "#y_test = to_categorical(y_test)\n",
    "\n",
    "y_train = keras.utils.to_categorical(y_train)\n",
    "y_test = keras.utils.to_categorical(y_test)"
   ]
  },
  {
   "cell_type": "markdown",
   "metadata": {},
   "source": [
    "1. Modifier le fichier pour implémenter ce réseau de neurones. Quelle fonction d’activation utiliseriez- vous pour la couche de sortie ?\n",
    " "
   ]
  },
  {
   "cell_type": "code",
   "execution_count": null,
   "metadata": {},
   "outputs": [],
   "source": [
    "from keras.models import Sequential\n",
    "from keras.layers import Flatten, Dense\n",
    "\n",
    "model1 = Sequential()\n",
    "model1.add(Flatten(input_shape=(28,28)))\n",
    "model1.add(Dense(2, activation='softmax', kernel_initializer='normal'))\n",
    "model1.compile(loss='categorical_crossentropy', optimizer='sgd', metrics=['accuracy'])\n",
    "\n",
    "model1.summary()"
   ]
  },
  {
   "cell_type": "markdown",
   "metadata": {},
   "source": [
    "2. Entrainer le réseau avec juste 10 epchos, le tester et mesurer sa précision. Peut-on améliorer encore la précision sans changer l’architecture du réseau ?"
   ]
  },
  {
   "cell_type": "code",
   "execution_count": 30,
   "metadata": {},
   "outputs": [
    {
     "name": "stdout",
     "output_type": "stream",
     "text": [
      "Epoch 1/10\n",
      "469/469 [==============================] - 0s 713us/step - loss: 0.1129 - accuracy: 0.9633 - val_loss: 0.1052 - val_accuracy: 0.9666\n",
      "Epoch 2/10\n",
      "469/469 [==============================] - 0s 585us/step - loss: 0.1116 - accuracy: 0.9640 - val_loss: 0.1038 - val_accuracy: 0.9671\n",
      "Epoch 3/10\n",
      "469/469 [==============================] - 0s 583us/step - loss: 0.1104 - accuracy: 0.9644 - val_loss: 0.1028 - val_accuracy: 0.9673\n",
      "Epoch 4/10\n",
      "469/469 [==============================] - 0s 596us/step - loss: 0.1094 - accuracy: 0.9649 - val_loss: 0.1018 - val_accuracy: 0.9677\n",
      "Epoch 5/10\n",
      "469/469 [==============================] - 0s 737us/step - loss: 0.1085 - accuracy: 0.9652 - val_loss: 0.1010 - val_accuracy: 0.9680\n",
      "Epoch 6/10\n",
      "469/469 [==============================] - 0s 658us/step - loss: 0.1077 - accuracy: 0.9655 - val_loss: 0.1002 - val_accuracy: 0.9682\n",
      "Epoch 7/10\n",
      "469/469 [==============================] - 0s 618us/step - loss: 0.1069 - accuracy: 0.9660 - val_loss: 0.0994 - val_accuracy: 0.9684\n",
      "Epoch 8/10\n",
      "469/469 [==============================] - 0s 581us/step - loss: 0.1062 - accuracy: 0.9661 - val_loss: 0.0988 - val_accuracy: 0.9686\n",
      "Epoch 9/10\n",
      "469/469 [==============================] - 0s 585us/step - loss: 0.1056 - accuracy: 0.9666 - val_loss: 0.0983 - val_accuracy: 0.9693\n",
      "Epoch 10/10\n",
      "469/469 [==============================] - 0s 584us/step - loss: 0.1050 - accuracy: 0.9669 - val_loss: 0.0977 - val_accuracy: 0.9695\n"
     ]
    },
    {
     "data": {
      "text/plain": [
       "<keras.src.callbacks.History at 0x16e549350>"
      ]
     },
     "execution_count": 30,
     "metadata": {},
     "output_type": "execute_result"
    }
   ],
   "source": [
    "epochs = 10\n",
    "batch_size = 128\n",
    "model1.fit(X_train, y_train, validation_data=(X_test, y_test), epochs=epochs, batch_size=batch_size)"
   ]
  },
  {
   "cell_type": "code",
   "execution_count": 31,
   "metadata": {},
   "outputs": [
    {
     "name": "stdout",
     "output_type": "stream",
     "text": [
      "Model: \"sequential_4\"\n",
      "_________________________________________________________________\n",
      " Layer (type)                Output Shape              Param #   \n",
      "=================================================================\n",
      " flatten_4 (Flatten)         (None, 784)               0         \n",
      "                                                                 \n",
      " dense_4 (Dense)             (None, 10)                7850      \n",
      "                                                                 \n",
      "=================================================================\n",
      "Total params: 7850 (30.66 KB)\n",
      "Trainable params: 7850 (30.66 KB)\n",
      "Non-trainable params: 0 (0.00 Byte)\n",
      "_________________________________________________________________\n"
     ]
    }
   ],
   "source": [
    "from keras.models import Sequential\n",
    "from keras.layers import Flatten, Dense\n",
    "\n",
    "model2 = Sequential()\n",
    "model2.add(Flatten(input_shape=(28,28)))\n",
    "model2.add(Dense(10, activation='softmax', kernel_initializer='normal'))\n",
    "model2.compile(loss='categorical_crossentropy', optimizer='sgd', metrics=['accuracy'])\n",
    "\n",
    "model2.summary()"
   ]
  },
  {
   "cell_type": "code",
   "execution_count": 33,
   "metadata": {},
   "outputs": [
    {
     "name": "stdout",
     "output_type": "stream",
     "text": [
      "Epoch 1/30\n",
      "469/469 [==============================] - 0s 660us/step - loss: 0.1005 - accuracy: 0.9690 - val_loss: 0.0936 - val_accuracy: 0.9713\n",
      "Epoch 2/30\n",
      "469/469 [==============================] - 0s 570us/step - loss: 0.1001 - accuracy: 0.9691 - val_loss: 0.0934 - val_accuracy: 0.9713\n",
      "Epoch 3/30\n",
      "469/469 [==============================] - 0s 578us/step - loss: 0.0999 - accuracy: 0.9693 - val_loss: 0.0931 - val_accuracy: 0.9716\n",
      "Epoch 4/30\n",
      "469/469 [==============================] - 0s 631us/step - loss: 0.0996 - accuracy: 0.9693 - val_loss: 0.0928 - val_accuracy: 0.9717\n",
      "Epoch 5/30\n",
      "469/469 [==============================] - 0s 583us/step - loss: 0.0993 - accuracy: 0.9694 - val_loss: 0.0926 - val_accuracy: 0.9719\n",
      "Epoch 6/30\n",
      "469/469 [==============================] - 0s 582us/step - loss: 0.0991 - accuracy: 0.9693 - val_loss: 0.0924 - val_accuracy: 0.9718\n",
      "Epoch 7/30\n",
      "469/469 [==============================] - 0s 570us/step - loss: 0.0988 - accuracy: 0.9696 - val_loss: 0.0922 - val_accuracy: 0.9720\n",
      "Epoch 8/30\n",
      "469/469 [==============================] - 0s 609us/step - loss: 0.0986 - accuracy: 0.9696 - val_loss: 0.0920 - val_accuracy: 0.9721\n",
      "Epoch 9/30\n",
      "469/469 [==============================] - 0s 576us/step - loss: 0.0984 - accuracy: 0.9699 - val_loss: 0.0918 - val_accuracy: 0.9722\n",
      "Epoch 10/30\n",
      "469/469 [==============================] - 0s 584us/step - loss: 0.0982 - accuracy: 0.9699 - val_loss: 0.0916 - val_accuracy: 0.9724\n",
      "Epoch 11/30\n",
      "469/469 [==============================] - 0s 584us/step - loss: 0.0980 - accuracy: 0.9699 - val_loss: 0.0915 - val_accuracy: 0.9725\n",
      "Epoch 12/30\n",
      "469/469 [==============================] - 0s 586us/step - loss: 0.0977 - accuracy: 0.9703 - val_loss: 0.0913 - val_accuracy: 0.9724\n",
      "Epoch 13/30\n",
      "469/469 [==============================] - 0s 582us/step - loss: 0.0975 - accuracy: 0.9701 - val_loss: 0.0912 - val_accuracy: 0.9725\n",
      "Epoch 14/30\n",
      "469/469 [==============================] - 0s 581us/step - loss: 0.0973 - accuracy: 0.9703 - val_loss: 0.0910 - val_accuracy: 0.9731\n",
      "Epoch 15/30\n",
      "469/469 [==============================] - 0s 642us/step - loss: 0.0972 - accuracy: 0.9703 - val_loss: 0.0908 - val_accuracy: 0.9731\n",
      "Epoch 16/30\n",
      "469/469 [==============================] - 0s 578us/step - loss: 0.0970 - accuracy: 0.9704 - val_loss: 0.0907 - val_accuracy: 0.9730\n",
      "Epoch 17/30\n",
      "469/469 [==============================] - 0s 575us/step - loss: 0.0968 - accuracy: 0.9704 - val_loss: 0.0905 - val_accuracy: 0.9731\n",
      "Epoch 18/30\n",
      "469/469 [==============================] - 0s 587us/step - loss: 0.0966 - accuracy: 0.9706 - val_loss: 0.0906 - val_accuracy: 0.9728\n",
      "Epoch 19/30\n",
      "469/469 [==============================] - 0s 573us/step - loss: 0.0965 - accuracy: 0.9706 - val_loss: 0.0903 - val_accuracy: 0.9733\n",
      "Epoch 20/30\n",
      "469/469 [==============================] - 0s 581us/step - loss: 0.0963 - accuracy: 0.9705 - val_loss: 0.0901 - val_accuracy: 0.9734\n",
      "Epoch 21/30\n",
      "469/469 [==============================] - 0s 571us/step - loss: 0.0961 - accuracy: 0.9705 - val_loss: 0.0900 - val_accuracy: 0.9734\n",
      "Epoch 22/30\n",
      "469/469 [==============================] - 0s 574us/step - loss: 0.0960 - accuracy: 0.9707 - val_loss: 0.0899 - val_accuracy: 0.9732\n",
      "Epoch 23/30\n",
      "469/469 [==============================] - 0s 604us/step - loss: 0.0959 - accuracy: 0.9709 - val_loss: 0.0898 - val_accuracy: 0.9735\n",
      "Epoch 24/30\n",
      "469/469 [==============================] - 0s 577us/step - loss: 0.0957 - accuracy: 0.9707 - val_loss: 0.0896 - val_accuracy: 0.9737\n",
      "Epoch 25/30\n",
      "469/469 [==============================] - 0s 582us/step - loss: 0.0956 - accuracy: 0.9709 - val_loss: 0.0896 - val_accuracy: 0.9737\n",
      "Epoch 26/30\n",
      "469/469 [==============================] - 0s 646us/step - loss: 0.0954 - accuracy: 0.9710 - val_loss: 0.0894 - val_accuracy: 0.9736\n",
      "Epoch 27/30\n",
      "469/469 [==============================] - 0s 577us/step - loss: 0.0953 - accuracy: 0.9710 - val_loss: 0.0893 - val_accuracy: 0.9736\n",
      "Epoch 28/30\n",
      "469/469 [==============================] - 0s 579us/step - loss: 0.0952 - accuracy: 0.9712 - val_loss: 0.0892 - val_accuracy: 0.9739\n",
      "Epoch 29/30\n",
      "469/469 [==============================] - 0s 576us/step - loss: 0.0950 - accuracy: 0.9712 - val_loss: 0.0891 - val_accuracy: 0.9738\n",
      "Epoch 30/30\n",
      "469/469 [==============================] - 0s 578us/step - loss: 0.0949 - accuracy: 0.9711 - val_loss: 0.0890 - val_accuracy: 0.9739\n"
     ]
    },
    {
     "data": {
      "text/plain": [
       "<keras.src.callbacks.History at 0x16cbb6110>"
      ]
     },
     "execution_count": 33,
     "metadata": {},
     "output_type": "execute_result"
    }
   ],
   "source": [
    "epochs = 30\n",
    "batch_size = 128\n",
    "model1.fit(X_train, y_train, validation_data=(X_test, y_test), epochs=epochs, batch_size=batch_size)"
   ]
  },
  {
   "cell_type": "markdown",
   "metadata": {},
   "source": [
    "#### Exercice 2."
   ]
  },
  {
   "cell_type": "markdown",
   "metadata": {},
   "source": [
    "Attention, il faut recharger les données : "
   ]
  },
  {
   "cell_type": "code",
   "execution_count": 45,
   "metadata": {},
   "outputs": [],
   "source": [
    "(X_train, y_train), (X_test, y_test) = mnist.load_data()\n",
    "X_train = X_train.astype('float32')\n",
    "X_test = X_test.astype('float32')\n",
    "X_train  = X_train / 255\n",
    "X_test  = X_test / 255\n",
    "\n",
    "y_train = keras.utils.to_categorical(y_train)\n",
    "y_test = keras.utils.to_categorical(y_test)"
   ]
  },
  {
   "cell_type": "markdown",
   "metadata": {},
   "source": [
    "2. Redéfinir, dans le programme, la nouvelle architecture."
   ]
  },
  {
   "cell_type": "code",
   "execution_count": null,
   "metadata": {},
   "outputs": [],
   "source": []
  },
  {
   "cell_type": "markdown",
   "metadata": {},
   "source": [
    "3. Entrainer et tester le nouveau réseau. Refaire les mêmes experimentations que dans l’exercice 1. Changer d’algorithme d’optimisation."
   ]
  },
  {
   "cell_type": "code",
   "execution_count": null,
   "metadata": {},
   "outputs": [],
   "source": []
  },
  {
   "cell_type": "code",
   "execution_count": null,
   "metadata": {},
   "outputs": [],
   "source": []
  },
  {
   "cell_type": "markdown",
   "metadata": {},
   "source": [
    "4. Ajouter une couche cachée avec 10 neurones, puis avec 64 neurones."
   ]
  },
  {
   "cell_type": "code",
   "execution_count": null,
   "metadata": {},
   "outputs": [],
   "source": []
  },
  {
   "cell_type": "code",
   "execution_count": null,
   "metadata": {},
   "outputs": [],
   "source": []
  },
  {
   "cell_type": "code",
   "execution_count": null,
   "metadata": {},
   "outputs": [],
   "source": []
  },
  {
   "cell_type": "code",
   "execution_count": null,
   "metadata": {},
   "outputs": [],
   "source": []
  },
  {
   "cell_type": "markdown",
   "metadata": {},
   "source": [
    "### Exercice 3"
   ]
  },
  {
   "cell_type": "code",
   "execution_count": 63,
   "metadata": {},
   "outputs": [],
   "source": [
    "from keras.datasets import mnist\n",
    "(X_train, y_train), (X_test, y_test) = mnist.load_data()\n",
    "\n",
    "img_rows, img_cols = X_train.shape[1], X_train.shape[2]\n",
    "X_train = X_train.reshape(X_train.shape[0], img_rows, img_cols, 1)\n",
    "X_test = X_test.reshape(X_test.shape[0], img_rows, img_cols, 1)\n",
    "\n",
    "X_train = X_train.astype('float32')\n",
    "X_test = X_test.astype('float32')\n",
    "X_train  = X_train / 255\n",
    "X_test  = X_test / 255\n",
    "\n",
    "num_classes = 10\n",
    "y_train = keras.utils.to_categorical(y_train, num_classes)\n",
    "y_test = keras.utils.to_categorical(y_test, num_classes)"
   ]
  },
  {
   "cell_type": "code",
   "execution_count": 64,
   "metadata": {},
   "outputs": [],
   "source": [
    "#On charge les bibliothèques :\n",
    "from keras.models import Sequential\n",
    "from keras.layers import Flatten, Dense, Conv2D, MaxPooling2D"
   ]
  },
  {
   "cell_type": "markdown",
   "metadata": {},
   "source": [
    "1. Définir un réseau de neurones à convolution avec :\n",
    "\n",
    "– une couche de convolution\n",
    "\n",
    "– une couche de maxpooling\n",
    "\n",
    "– un réseau \"fully connected\" à plusieurs couches"
   ]
  },
  {
   "cell_type": "code",
   "execution_count": null,
   "metadata": {},
   "outputs": [],
   "source": []
  },
  {
   "cell_type": "code",
   "execution_count": null,
   "metadata": {},
   "outputs": [],
   "source": []
  },
  {
   "cell_type": "code",
   "execution_count": null,
   "metadata": {},
   "outputs": [],
   "source": []
  },
  {
   "cell_type": "code",
   "execution_count": null,
   "metadata": {},
   "outputs": [],
   "source": []
  },
  {
   "cell_type": "code",
   "execution_count": null,
   "metadata": {},
   "outputs": [],
   "source": []
  },
  {
   "cell_type": "code",
   "execution_count": null,
   "metadata": {},
   "outputs": [],
   "source": []
  },
  {
   "cell_type": "code",
   "execution_count": null,
   "metadata": {},
   "outputs": [],
   "source": []
  },
  {
   "cell_type": "markdown",
   "metadata": {},
   "source": [
    "Et on a nos 99% "
   ]
  },
  {
   "cell_type": "code",
   "execution_count": null,
   "metadata": {},
   "outputs": [],
   "source": []
  }
 ],
 "metadata": {
  "kernelspec": {
   "display_name": "Python 3 (ipykernel)",
   "language": "python",
   "name": "python3"
  },
  "language_info": {
   "codemirror_mode": {
    "name": "ipython",
    "version": 3
   },
   "file_extension": ".py",
   "mimetype": "text/x-python",
   "name": "python",
   "nbconvert_exporter": "python",
   "pygments_lexer": "ipython3",
   "version": "3.11.6"
  }
 },
 "nbformat": 4,
 "nbformat_minor": 4
}

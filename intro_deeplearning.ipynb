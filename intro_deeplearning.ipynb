{
 "cells": [
  {
   "cell_type": "markdown",
   "metadata": {},
   "source": [
    "## Université de Bordeaux,  Master Mention Informatique\n",
    "\n",
    "## Intelligence Artificielle\n",
    "\n",
    "### Deep Learning, feuille 1"
   ]
  },
  {
   "cell_type": "markdown",
   "metadata": {},
   "source": [
    "### Présentation\n",
    "\n",
    "Le but de ce premier TD est de vous familiariser avec les réseaux de neurones et leur entraînement. Nous allons passer en revue les éléments de base suivant :\n",
    "\n",
    " - données d'apprentissage, \n",
    " \n",
    " - fonction de perte (loss function)\n",
    " \n",
    " - descente de gradient\n",
    " \n",
    " Pour cela, nous allons utiliser un réseau de neurone (composé d'un seul neurone en fait) pour deux tâches : \n",
    " \n",
    "  - une régression linéaire simple\n",
    "  \n",
    "  - une classification binaire."
   ]
  },
  {
   "cell_type": "markdown",
   "metadata": {},
   "source": [
    "Commençons par importer quelques unes des bibliothèques usuelles :"
   ]
  },
  {
   "cell_type": "code",
   "execution_count": 92,
   "metadata": {},
   "outputs": [],
   "source": [
    "import numpy as np\n",
    "import random as rd\n",
    "import matplotlib.pyplot as plt\n",
    "%matplotlib inline\n",
    "\n",
    "import warnings\n",
    "warnings.simplefilter('ignore')"
   ]
  },
  {
   "cell_type": "markdown",
   "metadata": {},
   "source": [
    "### On génère les données \n",
    "\n",
    "Afin de réaliser une régression linéaire simple, nous allongs générer un nuage de points. Exécutez le code de la cellule suivante :"
   ]
  },
  {
   "cell_type": "code",
   "execution_count": 93,
   "metadata": {},
   "outputs": [
    {
     "data": {
      "text/plain": [
       "<matplotlib.collections.PathCollection at 0x14de08350>"
      ]
     },
     "execution_count": 93,
     "metadata": {},
     "output_type": "execute_result"
    },
    {
     "data": {
      "image/png": "[encoded data removed]",
      "text/plain": [
       "<Figure size 640x480 with 1 Axes>"
      ]
     },
     "metadata": {},
     "output_type": "display_data"
    }
   ],
   "source": [
    "#Data: \n",
    "def generate(m, sizeNoise, slope, intersect):    \n",
    "    x = [rd.random()*50 + 5 for i in range(m)]\n",
    "    noise = [rd.random() * sizeNoise for i in range(m)]#np.rand(m,1) * sizeNoise\n",
    "    y = [intersect + slope*x[i] + noise[i] for i in range(m)] \n",
    "    return np.array([x]), np.array([y])\n",
    "\n",
    "m = 100\n",
    "sizeNoise = 10\n",
    "a = 0.8\n",
    "b =  20\n",
    "    \n",
    "X, Y = generate(m, sizeNoise, a, b)\n",
    "plt.grid()\n",
    "plt.scatter(X, Y)"
   ]
  },
  {
   "cell_type": "markdown",
   "metadata": {},
   "source": [
    "### Exercice 1. Un neurone :\n",
    "\n",
    "Comme vu en cours, un neurone formel est représenté comme suit : \n",
    "\n",
    "![Un neurone formel (Mc Culloch & Pitts (1943))](img/formal_neuron_s.png)\n",
    "\n",
    "1. Nommez chacun des élements du neurone.\n",
    "\n",
    "2. Ecrivez une fonction <code>neuron(x, w, b, f)</code> permettant d'implémenter ce neurone."
   ]
  },
  {
   "cell_type": "code",
   "execution_count": 94,
   "metadata": {},
   "outputs": [],
   "source": [
    "def neuron(x, w, b, f):\n",
    "    z = np.matmul(w, x) + b\n",
    "    y = f(z)\n",
    "    return y"
   ]
  },
  {
   "cell_type": "markdown",
   "metadata": {},
   "source": [
    "3. Définissez deux fonctions <code>id</code> et <code>sigmoid</code> définies par :\n",
    "$$\n",
    "id(z) = z \\text{ et } sigmoid(z) = \\frac{1}{1+ e^{-z}}.\n",
    "$$"
   ]
  },
  {
   "cell_type": "code",
   "execution_count": 95,
   "metadata": {},
   "outputs": [],
   "source": [
    "def id(z):\n",
    "    return z\n",
    "\n",
    "def sigmoid(z):\n",
    "    return 1. / (1 + np.exp(z))"
   ]
  },
  {
   "cell_type": "markdown",
   "metadata": {},
   "source": [
    "4. Testez vos fonctions. L'exécution de la cellule suivante devrait donner le résultat affiché."
   ]
  },
  {
   "cell_type": "code",
   "execution_count": 96,
   "metadata": {},
   "outputs": [
    {
     "name": "stdout",
     "output_type": "stream",
     "text": [
      "x:  [1]\n",
      "y_hat:  [2]\n"
     ]
    }
   ],
   "source": [
    "x = np.array([1])\n",
    "w = np.array([1])\n",
    "b = [1]\n",
    "\n",
    "y_hat = neuron(x, w, b, id)\n",
    "print('x: ', x)\n",
    "print('y_hat: ', y_hat)"
   ]
  },
  {
   "cell_type": "markdown",
   "metadata": {},
   "source": [
    "### Exercice 2. Régression linéaire : \n",
    "\n",
    "Dans cet exercice, nous allons entraîner un neurone pour réaliser une régression linéaire simple. \n",
    "\n",
    "1. Dessiner le neurone qui sera utilisé. Identifiez bien les paramètres à trouver."
   ]
  },
  {
   "cell_type": "markdown",
   "metadata": {},
   "source": [
    "Il suffit de prendre $p=1$ et $f=id$ dans le neurone formel de la figure ci-dessus. \n",
    "\n",
    "Les paramètres à trouver sont $w$ et $b$. Ils correspondent respectivement à $\\beta_1$ et $\\beta_0$ dans l'expression de la régression linéaire simple (voir votre cours de ACID). "
   ]
  },
  {
   "cell_type": "markdown",
   "metadata": {},
   "source": [
    "2. Ecrivez le code de la fonction <code>loss(y, y_hat)</code> définie comme la moyenne des carrés des écarts : \n",
    "\n",
    "$$\n",
    "loss\\left(y, \\hat{y}\\right) = \\frac 1 {2} \\sum_{i=1}^n \\left(\\hat{y_i} - y_i)\\right)^2. \n",
    "$$"
   ]
  },
  {
   "cell_type": "code",
   "execution_count": 97,
   "metadata": {},
   "outputs": [],
   "source": [
    "def loss(y, y_hat):\n",
    "    return 1. / 2 * np.mean(y_hat)"
   ]
  },
  {
   "cell_type": "markdown",
   "metadata": {},
   "source": [
    "3. Calculez le gradient de la fonction ${\\cal L} = loss$ par rapport aux deux variables $w$ et $b$."
   ]
  },
  {
   "cell_type": "code",
   "execution_count": null,
   "metadata": {},
   "outputs": [],
   "source": []
  },
  {
   "cell_type": "markdown",
   "metadata": {},
   "source": [
    "4. Ecrivez la focntion <code>gradient(x, y_hat, y)</code> retournant le gradient de la fonction $\\cal L$."
   ]
  },
  {
   "cell_type": "code",
   "execution_count": 98,
   "metadata": {},
   "outputs": [],
   "source": [
    "def gradient(x, y_hat, y):\n",
    "    dw = np.mean((y_hat - y)*x)\n",
    "    db = np.mean((y_hat - y))\n",
    "    return dw, db"
   ]
  },
  {
   "cell_type": "markdown",
   "metadata": {},
   "source": [
    "5. Ecrivez une fonction <code>train(x, y, eta, epochs)</code> qui réalise une déscente du gradient de la fonction $\\cal L$ afin de trouver les paramètres $w$ et $b$ minimisant la valeur de $\\cal L$. "
   ]
  },
  {
   "cell_type": "code",
   "execution_count": 99,
   "metadata": {},
   "outputs": [],
   "source": [
    "def train(x, y, eta, epochs):\n",
    "    w = np.array([rd.random()])\n",
    "    b = np.array([0])\n",
    "\n",
    "    for epoch in range(epochs):\n",
    "\n",
    "        y_hat = neuron(x, w, b, id)\n",
    "        \n",
    "        dw, db = gradient(x, y_hat, y)\n",
    "\n",
    "        w = w - eta * dw\n",
    "        w = w - eta * db\n",
    "\n",
    "        l = loss(y, y_hat)\n",
    "        \n",
    "        if epoch%999==0:\n",
    "            print('epoch: {}, loss: {:2.2%}'.format(epochs, l))\n",
    "\n",
    "    return w, b"
   ]
  },
  {
   "cell_type": "markdown",
   "metadata": {},
   "source": [
    "6. Entraînez votre neurone. Prenez $0.001$ comme valeur pour le pas d'apprentissage, et $10000$ pour le nombre d'epochs."
   ]
  },
  {
   "cell_type": "code",
   "execution_count": 100,
   "metadata": {},
   "outputs": [
    {
     "name": "stdout",
     "output_type": "stream",
     "text": [
      "epoch: 10000, loss: 805.62%\n",
      "epoch: 10000, loss: 2345.51%\n",
      "epoch: 10000, loss: 2345.51%\n",
      "epoch: 10000, loss: 2345.51%\n",
      "epoch: 10000, loss: 2345.51%\n",
      "epoch: 10000, loss: 2345.51%\n",
      "epoch: 10000, loss: 2345.51%\n",
      "epoch: 10000, loss: 2345.51%\n",
      "epoch: 10000, loss: 2345.51%\n",
      "epoch: 10000, loss: 2345.51%\n",
      "epoch: 10000, loss: 2345.51%\n"
     ]
    },
    {
     "data": {
      "text/plain": [
       "(array([1.46665896]), array([0]))"
      ]
     },
     "execution_count": 100,
     "metadata": {},
     "output_type": "execute_result"
    }
   ],
   "source": [
    "eta = 0.001\n",
    "epochs = 10000\n",
    "train(X, Y, eta, epochs)"
   ]
  },
  {
   "cell_type": "markdown",
   "metadata": {},
   "source": [
    "7. Donnez l'équation de la droite de régression obtenue. Ecrivez l'instruction permettant de calculer les valeurs prédites."
   ]
  },
  {
   "cell_type": "code",
   "execution_count": 101,
   "metadata": {},
   "outputs": [],
   "source": [
    "y_pred = w[0] * X * b[0]"
   ]
  },
  {
   "cell_type": "markdown",
   "metadata": {},
   "source": [
    "8. Dessinez la droite de régression sur la même figure que le nuage de point."
   ]
  },
  {
   "cell_type": "code",
   "execution_count": 102,
   "metadata": {},
   "outputs": [
    {
     "data": {
      "text/plain": [
       "<matplotlib.collections.PathCollection at 0x14de8e950>"
      ]
     },
     "execution_count": 102,
     "metadata": {},
     "output_type": "execute_result"
    },
    {
     "data": {
      "image/png": "[encoded data removed]",
      "text/plain": [
       "<Figure size 640x480 with 1 Axes>"
      ]
     },
     "metadata": {},
     "output_type": "display_data"
    }
   ],
   "source": [
    "plt.grid()\n",
    "plt.scatter(X, Y)\n",
    "plt.scatter(X[0], y_pred[0], c='red')"
   ]
  },
  {
   "cell_type": "markdown",
   "metadata": {},
   "source": [
    "9. Comparez le résultat obtenu avec la droite donnée par <code>linregress</code> du sous module <code>stats</code> du module <code>scipy</code>."
   ]
  },
  {
   "cell_type": "code",
   "execution_count": null,
   "metadata": {},
   "outputs": [],
   "source": []
  },
  {
   "cell_type": "code",
   "execution_count": null,
   "metadata": {},
   "outputs": [],
   "source": []
  },
  {
   "cell_type": "markdown",
   "metadata": {},
   "source": [
    "### Exercice 3. Régression logistique :\n",
    "\n",
    "Dans cet exercice, nous allons transformer le neurone afin de l'utiliser pour réaliser une classification. Nous allons nous limiter à une classification bianire : les élements appartiennent soit à une classe 0 soit à une classe 1.  "
   ]
  },
  {
   "cell_type": "markdown",
   "metadata": {},
   "source": [
    "1. Comment devons-nous appeler la \"fonction\" <code>neuron</code> pour que le fonction d'activation soit la sigmoid ?"
   ]
  },
  {
   "cell_type": "code",
   "execution_count": 103,
   "metadata": {},
   "outputs": [
    {
     "data": {
      "text/plain": [
       "array([0.11920292, 0.04742587, 0.01798621])"
      ]
     },
     "execution_count": 103,
     "metadata": {},
     "output_type": "execute_result"
    }
   ],
   "source": [
    "x = np.array([[1,2,3]])\n",
    "w = np.array([1])\n",
    "b = np.array([1])\n",
    "y_hat = neuron(x, w, b, sigmoid)\n",
    "y_hat"
   ]
  },
  {
   "cell_type": "markdown",
   "metadata": {},
   "source": [
    "2. Exécutez la cellule suivante pour générer les données, les découper en deux parties train et test, etc. Observez le résultat de la cellule."
   ]
  },
  {
   "cell_type": "code",
   "execution_count": 104,
   "metadata": {},
   "outputs": [
    {
     "name": "stdout",
     "output_type": "stream",
     "text": [
      "(750, 1)\n",
      "(750,)\n",
      "[0 1]\n"
     ]
    }
   ],
   "source": [
    "from sklearn.datasets import make_classification\n",
    "from sklearn.model_selection import train_test_split\n",
    "\n",
    "X, y = make_classification(n_samples=1000, n_features=1, n_classes=2, \n",
    "                           n_informative=1, n_redundant=0, n_repeated=0,\n",
    "                          n_clusters_per_class=1)\n",
    "\n",
    "X_train, X_test, y_train, y_test = train_test_split(X, y)\n",
    "print(X_train.shape)\n",
    "print(y_train.shape)\n",
    "print(np.unique(y))"
   ]
  },
  {
   "cell_type": "markdown",
   "metadata": {},
   "source": [
    "3. Définissez la nouvelle fonction de perte. Nous allons utiliser la fonction *cross_entropy* vue en cours :\n",
    "\n",
    "$$\n",
    "\\cal L = -\\frac 1 n \\sum_{i=1} y_i\\times \\log\\left(\\hat{y}_i\\right) \n",
    "$$"
   ]
  },
  {
   "cell_type": "code",
   "execution_count": 105,
   "metadata": {},
   "outputs": [],
   "source": [
    "def loss_crossentropy(y, y_hat):\n",
    "    return - np.mean(y * np.log(y_hat))"
   ]
  },
  {
   "cell_type": "markdown",
   "metadata": {},
   "source": [
    "4. Ecrivez les expressions mathématiques de ce que calcule votre neurone."
   ]
  },
  {
   "cell_type": "code",
   "execution_count": null,
   "metadata": {},
   "outputs": [],
   "source": []
  },
  {
   "cell_type": "markdown",
   "metadata": {},
   "source": [
    "5. Calculez le gradient de $\\cal L$ et écrivez la fonction correspondante"
   ]
  },
  {
   "cell_type": "code",
   "execution_count": null,
   "metadata": {},
   "outputs": [],
   "source": []
  },
  {
   "cell_type": "code",
   "execution_count": 106,
   "metadata": {},
   "outputs": [],
   "source": [
    "def gradient_crossentropy(x, y_hat, y):\n",
    "    dw = - np.mean(y*(1-y_hat)*x)\n",
    "    db = - np.mean(y*(1-y_hat))\n",
    "    return dw, db"
   ]
  },
  {
   "cell_type": "markdown",
   "metadata": {},
   "source": [
    "6. Adaptez une fonction <code>train(x, y, nu, epochs)</code> pour réaliser une déscente du gradient de la fonction $\\cal L$ afin de trouver les paramètres $w$ et $b$ minimisant la valeur de $\\cal L$. "
   ]
  },
  {
   "cell_type": "code",
   "execution_count": 107,
   "metadata": {},
   "outputs": [],
   "source": [
    "def train_corssentropy(x, y, eta, epochs):\n",
    "    w = np.array([rd.random()])\n",
    "    b = np.array([0])\n",
    "\n",
    "    for epoch in range(epochs):\n",
    "\n",
    "        y_hat = neuron(x, w, b, sigmoid)\n",
    "        \n",
    "        dw, db = gradient_crossentropy(x, y_hat, y)\n",
    "\n",
    "        w = w - eta * dw\n",
    "        w = w - eta * db\n",
    "\n",
    "        l = loss_crossentropy(y, y_hat)\n",
    "        \n",
    "        if epoch%999==0:\n",
    "            print('epoch: {}, loss: {:2.2%}'.format(epoch, l))\n",
    "\n",
    "    return w, b"
   ]
  },
  {
   "cell_type": "markdown",
   "metadata": {},
   "source": [
    "7. Exécutez la cellule suivante pour que vos calculs matriciels puissent se faire et entraînez votre neurone."
   ]
  },
  {
   "cell_type": "code",
   "execution_count": 108,
   "metadata": {},
   "outputs": [
    {
     "name": "stdout",
     "output_type": "stream",
     "text": [
      "(1, 750)\n",
      "(750,)\n"
     ]
    }
   ],
   "source": [
    "X_train = np.reshape(X_train, (X_train.shape[1], X_train.shape[0]))\n",
    "print(X_train.shape)\n",
    "print(y_train.shape)"
   ]
  },
  {
   "cell_type": "code",
   "execution_count": 109,
   "metadata": {},
   "outputs": [
    {
     "name": "stdout",
     "output_type": "stream",
     "text": [
      "epoch: 0, loss: 52.79%\n",
      "epoch: 999, loss: 85.89%\n",
      "epoch: 1998, loss: 129.31%\n",
      "epoch: 2997, loss: 177.65%\n",
      "epoch: 3996, loss: 228.27%\n",
      "epoch: 4995, loss: 280.03%\n",
      "epoch: 5994, loss: 332.40%\n",
      "epoch: 6993, loss: 385.12%\n",
      "epoch: 7992, loss: 438.06%\n",
      "epoch: 8991, loss: 491.14%\n",
      "epoch: 9990, loss: 544.32%\n"
     ]
    }
   ],
   "source": [
    "eta = 0.001\n",
    "epochs = 10000\n",
    "w, b = train_corssentropy(X_train, y_train, eta, epochs)"
   ]
  },
  {
   "cell_type": "markdown",
   "metadata": {},
   "source": [
    "8. Evaluez votre modèle. Pour cela : "
   ]
  },
  {
   "cell_type": "markdown",
   "metadata": {},
   "source": [
    "8.1. Exécutez la cellule suivante pour formater les données de test."
   ]
  },
  {
   "cell_type": "code",
   "execution_count": null,
   "metadata": {},
   "outputs": [],
   "source": [
    "X_test = np.reshape(X_test, (X_test.shape[1], X_test.shape[0]))"
   ]
  },
  {
   "cell_type": "markdown",
   "metadata": {},
   "source": [
    "8.2. Appliquez votre neurone aux données de test et observez le résultat obtenu."
   ]
  },
  {
   "cell_type": "code",
   "execution_count": null,
   "metadata": {},
   "outputs": [],
   "source": []
  },
  {
   "cell_type": "markdown",
   "metadata": {},
   "source": [
    "8.3. Transformez les sorties en 0 et 1 : "
   ]
  },
  {
   "cell_type": "code",
   "execution_count": 110,
   "metadata": {},
   "outputs": [
    {
     "ename": "ValueError",
     "evalue": "The truth value of an array with more than one element is ambiguous. Use a.any() or a.all()",
     "output_type": "error",
     "traceback": [
      "\u001b[0;31m---------------------------------------------------------------------------\u001b[0m",
      "\u001b[0;31mValueError\u001b[0m                                Traceback (most recent call last)",
      "\u001b[1;32m/Users/matteo/Documents/Université/M2 - S1/IA/intro_deeplearning.ipynb Cellule 55\u001b[0m line \u001b[0;36m1\n\u001b[0;32m----> <a href='vscode-notebook-cell:/Users/matteo/Documents/Universite%CC%81/M2%20-%20S1/IA/intro_deeplearning.ipynb#Y105sZmlsZQ%3D%3D?line=0'>1</a>\u001b[0m y_pred \u001b[39m=\u001b[39m [\u001b[39m1\u001b[39;49m \u001b[39mif\u001b[39;49;00m y \u001b[39m>\u001b[39;49m \u001b[39m0.5\u001b[39;49m \u001b[39melse\u001b[39;49;00m \u001b[39m0\u001b[39;49m \u001b[39mfor\u001b[39;49;00m y \u001b[39min\u001b[39;49;00m y_pred]\n",
      "\u001b[1;32m/Users/matteo/Documents/Université/M2 - S1/IA/intro_deeplearning.ipynb Cellule 55\u001b[0m line \u001b[0;36m1\n\u001b[0;32m----> <a href='vscode-notebook-cell:/Users/matteo/Documents/Universite%CC%81/M2%20-%20S1/IA/intro_deeplearning.ipynb#Y105sZmlsZQ%3D%3D?line=0'>1</a>\u001b[0m y_pred \u001b[39m=\u001b[39m [\u001b[39m1\u001b[39m \u001b[39mif\u001b[39;00m y \u001b[39m>\u001b[39m \u001b[39m0.5\u001b[39m \u001b[39melse\u001b[39;00m \u001b[39m0\u001b[39m \u001b[39mfor\u001b[39;00m y \u001b[39min\u001b[39;00m y_pred]\n",
      "\u001b[0;31mValueError\u001b[0m: The truth value of an array with more than one element is ambiguous. Use a.any() or a.all()"
     ]
    }
   ],
   "source": [
    "y_pred = [1 if y > 0.5 else 0 for y in y_pred]"
   ]
  },
  {
   "cell_type": "markdown",
   "metadata": {},
   "source": [
    "8.4. Evaluez la qualité du modèle obtenu "
   ]
  },
  {
   "cell_type": "code",
   "execution_count": null,
   "metadata": {},
   "outputs": [],
   "source": []
  },
  {
   "cell_type": "code",
   "execution_count": null,
   "metadata": {},
   "outputs": [],
   "source": []
  },
  {
   "cell_type": "code",
   "execution_count": null,
   "metadata": {},
   "outputs": [],
   "source": []
  }
 ],
 "metadata": {
  "kernelspec": {
   "display_name": "Python 3 (ipykernel)",
   "language": "python",
   "name": "python3"
  },
  "language_info": {
   "codemirror_mode": {
    "name": "ipython",
    "version": 3
   },
   "file_extension": ".py",
   "mimetype": "text/x-python",
   "name": "python",
   "nbconvert_exporter": "python",
   "pygments_lexer": "ipython3",
   "version": "3.11.6"
  }
 },
 "nbformat": 4,
 "nbformat_minor": 4
}

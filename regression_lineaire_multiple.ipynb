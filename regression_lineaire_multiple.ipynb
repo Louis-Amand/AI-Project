{
 "cells": [
  {
   "cell_type": "code",
   "execution_count": 1,
   "id": "39588d0e-68fc-41f1-8257-30e3698dcd8c",
   "metadata": {},
   "outputs": [
    {
     "data": {
      "text/html": [
       "<div>\n",
       "\n",
       "\n",
       "  \n",
       "    \n",
       "      \n",
       "      \n",
       "      \n",
       "      \n",
       "      \n",
       "    \n",
       "  \n",
       "  \n",
       "    \n",
       "      \n",
       "      \n",
       "      \n",
       "      \n",
       "      \n",
       "    \n",
       "    \n",
       "      \n",
       "      \n",
       "      \n",
       "      \n",
       "      \n",
       "    \n",
       "    \n",
       "      \n",
       "      \n",
       "      \n",
       "      \n",
       "      \n",
       "    \n",
       "    \n",
       "      \n",
       "      \n",
       "      \n",
       "      \n",
       "      \n",
       "    \n",
       "    \n",
       "      \n",
       "      \n",
       "      \n",
       "      \n",
       "      \n",
       "    \n",
       "  \n",
       "<table border=3D"\&quot;1\&quot;" class=3D"\&quot;dataframe\&quot;"=
><thead><tr style=3D"\&quot;text-align:" right;\"=3D""><th></th><th>TV</th>=
<th>Radio</th><th>Newspaper</th><th>Sales</th></tr></thead><tbody><tr><th>0=
</th><td>230.1</td><td>37.8</td><td>69.2</td><td>22.1</td></tr><tr><th>1</t=
h><td>44.5</td><td>39.3</td><td>45.1</td><td>10.4</td></tr><tr><th>2</th><t=
d>17.2</td><td>45.9</td><td>69.3</td><td>9.3</td></tr><tr><th>3</th><td>151=
.5</td><td>41.3</td><td>58.5</td><td>18.5</td></tr><tr><th>4</th><td>180.8<=
/td><td>10.8</td><td>58.4</td><td>12.9</td></tr></tbody></table>\n",
       "</div>"
      ],
      "text/plain": [
       "      TV  Radio  Newspaper  Sales\n",
       "0  230.1   37.8       69.2   22.1\n",
       "1   44.5   39.3       45.1   10.4\n",
       "2   17.2   45.9       69.3    9.3\n",
       "3  151.5   41.3       58.5   18.5\n",
       "4  180.8   10.8       58.4   12.9"
      ]
     },
     "execution_count": 1,
     "metadata": {},
     "output_type": "execute_result"
    }
   ],
   "source": [
    "import pandas as pa\n",
    "#Donn=C3=A9es reliant un nombre de ventes et l=E2=80=99investissement =
dans diff=C3=A9rents m=C3=A9dias. \n",
    "#Le mod=C3=A8le de r=C3=A9gression multiple a une variable d=C3=A9pend=
ante y mesurant le nombre de ventes \n",
    "#et 3 variables ind=C3=A9pendantes mesurant les investissements en ter=
me de publicit=C3=A9 par m=C3=A9dia.\n",
    "data =3D pa.read_csv('advertising.csv')\n",
    "data.head()"
   ]
  },
  {
   "cell_type": "code",
   "execution_count": 2,
   "id": "42dc1acf-dfd4-4c2c-81e9-973550344236",
   "metadata": {},
   "outputs": [],
   "source": [
    "X =3D data[['TV', 'Radio', 'Newspaper']]\n",
    "y =3D data['Sales']"
   ]
  },
  {
   "cell_type": "code",
   "execution_count": 3,
   "id": "5cfda2b0-ef63-468b-a8f0-e45b31851130",
   "metadata": {},
   "outputs": [
    {
     "data": {
      "text/html": [
       "\n",
       "\n",
       "\n",
       "   \n",
       "\n",
       "\n",
       "   \n",
       "\n",
       "\n",
       "   \n",
       "\n",
       "\n",
       "  \n",
       "\n",
       "\n",
       "   \n",
       "\n",
       "\n",
       "   \n",
       "\n",
       "\n",
       "   \n",
       "\n",
       "\n",
       "      \n",
       "\n",
       "\n",
       "      \n",
       "\n",
       "<table class=3D"\&quot;simpletable\&quot;"><caption>OLS Regression =
Results</caption><tbody><tr><th>Dep. Variable:</th>          <td>Sales</td>=
      <th>  R-squared (uncentered):</th>      <td>   0.979</td></tr><tr><th=
>Model:</th>                   <td>OLS</td>       <th>  Adj. R-squared (unc=
entered):</th> <td>   0.979</td></tr><tr><th>Method:</th>             <td>L=
east Squares</td>  <th>  F-statistic:       </th>          <td>   3091.</td=
></tr><tr><th>Date:</th>             <td>Mon, 25 Sep 2023</td> <th>  Prob (=
F-statistic):</th>          <td>2.40e-165</td></tr><tr><th>Time:</th>      =
           <td>08:52:54</td>     <th>  Log-Likelihood:    </th>          <t=
d> -437.56</td></tr><tr><th>No. Observations:</th>      <td>   200</td>    =
  <th>  AIC:               </th>          <td>   881.1</td></tr><tr><th>Df =
Residuals:</th>          <td>   197</td>      <th>  BIC:               </th=
>          <td>   891.0</td></tr><tr><th>Df Model:</th>              <td>  =
   3</td>      <th>                     </th>              <td> </td></tr><=
tr><th>Covariance Type:</th>      <td>nonrobust</td>    <th>               =
      </th>              <td> </td></tr></tbody></table>\n",
       "\n",
       "\n",
       "        \n",
       "\n",
       "\n",
       "  \n",
       "\n",
       "\n",
       "  \n",
       "\n",
       "\n",
       "  \n",
       "\n",
       "<table class=3D"\&quot;simpletable\&quot;"><tbody><tr><td></td>    =
     <th>coef</th>     <th>std err</th>      <th>t</th>      <th>P&gt;|t|</=
th>  <th>[0.025</th>    <th>0.975]</th></tr><tr><th>TV</th>        <td>    =
0.0531</td> <td>    0.001</td> <td>   37.422</td> <td> 0.000</td> <td>    0=
.050</td> <td>    0.056</td></tr><tr><th>Radio</th>     <td>    0.2296</td>=
 <td>    0.010</td> <td>   22.877</td> <td> 0.000</td> <td>    0.210</td> <=
td>    0.249</td></tr><tr><th>Newspaper</th> <td>    0.0158</td> <td>    0.=
007</td> <td>    2.206</td> <td> 0.029</td> <td>    0.002</td> <td>    0.03=
0</td></tr></tbody></table>\n",
       "\n",
       "\n",
       "  \n",
       "\n",
       "\n",
       "  \n",
       "\n",
       "\n",
       "  \n",
       "\n",
       "\n",
       "  \n",
       "\n",
       "<table class=3D"\&quot;simpletable\&quot;"><tbody><tr><th>Omnibus:<=
/th>       <td>24.277</td> <th>  Durbin-Watson:     </th> <td>   2.053</td>=
</tr><tr><th>Prob(Omnibus):</th> <td> 0.000</td> <th>  Jarque-Bera (JB):  <=
/th> <td>  83.215</td></tr><tr><th>Skew:</th>          <td> 0.371</td> <th>=
  Prob(JB):          </th> <td>8.51e-19</td></tr><tr><th>Kurtosis:</th>    =
  <td> 6.072</td> <th>  Cond. No.          </th> <td>    12.5</td></tr></tb=
ody></table><br><br>Notes:<br>[1] R=C2=B2 is computed without centering (un=
centered) since the model does not contain a constant.<br>[2] Standard Erro=
rs assume that the covariance matrix of the errors is correctly specified."
      ],
      "text/latex": [
       "\\begin{center}\n",
       "\\begin{tabular}{lclc}\n",
       "\\toprule\n",
       "\\textbf{Dep. Variable:}    &amp;      Sales       &amp; \\textbf{ =
 R-squared (uncentered):}      &amp;     0.979   \\\\\n",
       "\\textbf{Model:}            &amp;       OLS        &amp; \\textbf{ =
 Adj. R-squared (uncentered):} &amp;     0.979   \\\\\n",
       "\\textbf{Method:}           &amp;  Least Squares   &amp; \\textbf{ =
 F-statistic:       }          &amp;     3091.   \\\\\n",
       "\\textbf{Date:}             &amp; Mon, 25 Sep 2023 &amp; \\textbf{ =
 Prob (F-statistic):}          &amp; 2.40e-165   \\\\\n",
       "\\textbf{Time:}             &amp;     08:52:54     &amp; \\textbf{ =
 Log-Likelihood:    }          &amp;   -437.56   \\\\\n",
       "\\textbf{No. Observations:} &amp;         200      &amp; \\textbf{ =
 AIC:               }          &amp;     881.1   \\\\\n",
       "\\textbf{Df Residuals:}     &amp;         197      &amp; \\textbf{ =
 BIC:               }          &amp;     891.0   \\\\\n",
       "\\textbf{Df Model:}         &amp;           3      &amp; \\textbf{ =
                    }          &amp;             \\\\\n",
       "\\textbf{Covariance Type:}  &amp;    nonrobust     &amp; \\textbf{ =
                    }          &amp;             \\\\\n",
       "\\bottomrule\n",
       "\\end{tabular}\n",
       "\\begin{tabular}{lcccccc}\n",
       "                   &amp; \\textbf{coef} &amp; \\textbf{std err} &am=
p; \\textbf{t} &amp; \\textbf{P$&gt; |$t$|$} &amp; \\textbf{[0.025} &amp; \=
\textbf{0.975]}  \\\\\n",
       "\\midrule\n",
       "\\textbf{TV}        &amp;       0.0531  &amp;        0.001     &amp=
;    37.422  &amp;         0.000        &amp;        0.050    &amp;        =
0.056     \\\\\n",
       "\\textbf{Radio}     &amp;       0.2296  &amp;        0.010     &amp=
;    22.877  &amp;         0.000        &amp;        0.210    &amp;        =
0.249     \\\\\n",
       "\\textbf{Newspaper} &amp;       0.0158  &amp;        0.007     &amp=
;     2.206  &amp;         0.029        &amp;        0.002    &amp;        =
0.030     \\\\\n",
       "\\bottomrule\n",
       "\\end{tabular}\n",
       "\\begin{tabular}{lclc}\n",
       "\\textbf{Omnibus:}       &amp; 24.277 &amp; \\textbf{  Durbin-Watso=
n:     } &amp;    2.053  \\\\\n",
       "\\textbf{Prob(Omnibus):} &amp;  0.000 &amp; \\textbf{  Jarque-Bera =
(JB):  } &amp;   83.215  \\\\\n",
       "\\textbf{Skew:}          &amp;  0.371 &amp; \\textbf{  Prob(JB):   =
       } &amp; 8.51e-19  \\\\\n",
       "\\textbf{Kurtosis:}      &amp;  6.072 &amp; \\textbf{  Cond. No.   =
       } &amp;     12.5  \\\\\n",
       "\\bottomrule\n",
       "\\end{tabular}\n",
       "%\\caption{OLS Regression Results}\n",
       "\\end{center}\n",
       "\n",
       "Notes: \\newline\n",
       " [1] R=C2=B2 is computed without centering (uncentered) since the m=
odel does not contain a constant. \\newline\n",
       " [2] Standard Errors assume that the covariance matrix of the error=
s is correctly specified."
      ],
      "text/plain": [
       "<class 'statsmodels.iolib.summary.summary'=3D"">\n",
       "\"\"\"\n",
       "                                 OLS Regression Results            =
                    \n",
       "=3D=3D=3D=3D=3D=3D=3D=3D=3D=3D=3D=3D=3D=3D=3D=3D=3D=3D=3D=3D=3D=3D=
=3D=3D=3D=3D=3D=3D=3D=3D=3D=3D=3D=3D=3D=3D=3D=3D=3D=3D=3D=3D=3D=3D=3D=3D=3D=
=3D=3D=3D=3D=3D=3D=3D=3D=3D=3D=3D=3D=3D=3D=3D=3D=3D=3D=3D=3D=3D=3D=3D=3D=3D=
=3D=3D=3D=3D=3D=3D=3D=3D=3D=3D=3D=3D=3D=3D=3D\n",
       "Dep. Variable:                  Sales   R-squared (uncentered):    =
               0.979\n",
       "Model:                            OLS   Adj. R-squared (uncentered)=
:              0.979\n",
       "Method:                 Least Squares   F-statistic:               =
               3091.\n",
       "Date:                Mon, 25 Sep 2023   Prob (F-statistic):        =
           2.40e-165\n",
       "Time:                        08:52:54   Log-Likelihood:            =
             -437.56\n",
       "No. Observations:                 200   AIC:                       =
               881.1\n",
       "Df Residuals:                     197   BIC:                       =
               891.0\n",
       "Df Model:                           3                              =
                    \n",
       "Covariance Type:            nonrobust                              =
                    \n",
       "=3D=3D=3D=3D=3D=3D=3D=3D=3D=3D=3D=3D=3D=3D=3D=3D=3D=3D=3D=3D=3D=3D=
=3D=3D=3D=3D=3D=3D=3D=3D=3D=3D=3D=3D=3D=3D=3D=3D=3D=3D=3D=3D=3D=3D=3D=3D=3D=
=3D=3D=3D=3D=3D=3D=3D=3D=3D=3D=3D=3D=3D=3D=3D=3D=3D=3D=3D=3D=3D=3D=3D=3D=3D=
=3D=3D=3D=3D=3D=3D\n",
       "                 coef    std err          t      P&gt;|t|      [0.0=
25      0.975]\n",
       "-------------------------------------------------------------------=
-----------\n",
       "TV             0.0531      0.001     37.422      0.000       0.050 =
      0.056\n",
       "Radio          0.2296      0.010     22.877      0.000       0.210 =
      0.249\n",
       "Newspaper      0.0158      0.007      2.206      0.029       0.002 =
      0.030\n",
       "=3D=3D=3D=3D=3D=3D=3D=3D=3D=3D=3D=3D=3D=3D=3D=3D=3D=3D=3D=3D=3D=3D=
=3D=3D=3D=3D=3D=3D=3D=3D=3D=3D=3D=3D=3D=3D=3D=3D=3D=3D=3D=3D=3D=3D=3D=3D=3D=
=3D=3D=3D=3D=3D=3D=3D=3D=3D=3D=3D=3D=3D=3D=3D=3D=3D=3D=3D=3D=3D=3D=3D=3D=3D=
=3D=3D=3D=3D=3D=3D\n",
       "Omnibus:                       24.277   Durbin-Watson:             =
      2.053\n",
       "Prob(Omnibus):                  0.000   Jarque-Bera (JB):          =
     83.215\n",
       "Skew:                           0.371   Prob(JB):                  =
   8.51e-19\n",
       "Kurtosis:                       6.072   Cond. No.                  =
       12.5\n",
       "=3D=3D=3D=3D=3D=3D=3D=3D=3D=3D=3D=3D=3D=3D=3D=3D=3D=3D=3D=3D=3D=3D=
=3D=3D=3D=3D=3D=3D=3D=3D=3D=3D=3D=3D=3D=3D=3D=3D=3D=3D=3D=3D=3D=3D=3D=3D=3D=
=3D=3D=3D=3D=3D=3D=3D=3D=3D=3D=3D=3D=3D=3D=3D=3D=3D=3D=3D=3D=3D=3D=3D=3D=3D=
=3D=3D=3D=3D=3D=3D\n",
       "\n",
       "Notes:\n",
       "[1] R=C2=B2 is computed without centering (uncentered) since the mo=
del does not contain a constant.\n",
       "[2] Standard Errors assume that the covariance matrix of the errors=
 is correctly specified.\n",
       "\"\"\""
      ]
     },
     "execution_count": 3,
     "metadata": {},
     "output_type": "execute_result"
    }
   ],
   "source": [
    "from statsmodels.regression.linear_model import OLS\n",
    "model =3D OLS(y,X)\n",
    "results =3D model.fit()\n",
    "report =3D results.summary()\n",
    "report"
   ]
  },
  {
   "cell_type": "code",
   "execution_count": null,
   "id": "4187bf06-eaa5-4e90-b19f-97cc5ae771b8",
   "metadata": {},
   "outputs": [],
   "source": []
  }
 ],
 "metadata": {
  "kernelspec": {
   "display_name": "Python 3 (ipykernel)",
   "language": "python",
   "name": "python3"
  },
  "language_info": {
   "codemirror_mode": {
    "name": "ipython",
    "version": 3
   },
   "file_extension": ".py",
   "mimetype": "text/x-python",
   "name": "python",
   "nbconvert_exporter": "python",
   "pygments_lexer": "ipython3",
   "version": "3.11.4"
  }
 },
 "nbformat": 4,
 "nbformat_minor": 5
}
{
 "cells": [
  {
   "cell_type": "markdown",
   "metadata": {
    "_uuid": "aec08eb2637bcb980c785d01b2d2b315b543a957",
    "id": "iYqv7tEYsqEq"
   },
   "source": [
    "## <center> Titanic - Data Preprocessing and Visualization </center>"
   ]
  },
  {
   "cell_type": "markdown",
   "metadata": {
    "_uuid": "4332c39cd8d5801ef9306d3fe7864290bfa136ce",
    "id": "F7b8p9ftsqEt"
   },
   "source": [
    "### Import des libraries"
   ]
  },
  {
   "cell_type": "code",
   "execution_count": 43,
   "metadata": {
    "_uuid": "fe6d1d8ce2e0279be0da396fe8c262ae9863ad24",
    "id": "Ai4c4Gb5sqEt"
   },
   "outputs": [],
   "source": [
    "import pandas as pd\n",
    "import numpy as np\n",
    "import matplotlib.pyplot as plt\n",
    "import seaborn as sns\n",
    "from sklearn.preprocessing import LabelEncoder\n",
    "from sklearn.model_selection import train_test_split\n",
    "from sklearn.linear_model import LogisticRegression\n",
    "from sklearn.metrics import accuracy_score, classification_report\n"
   ]
  },
  {
   "cell_type": "markdown",
   "metadata": {
    "_uuid": "7678beaad00bbc591d9eb2e947a5d6a75a1ef252",
    "id": "KYliR4DisqEv"
   },
   "source": [
    "### Chargement des données"
   ]
  },
  {
   "cell_type": "code",
   "execution_count": 44,
   "metadata": {
    "_uuid": "dc8b87d2ed819b7ae3aa0910f534ba488f89b2b8",
    "colab": {
     "base_uri": "https://localhost:8080/",
     "height": 206
    },
    "id": "gYVaC8-RsqEw",
    "outputId": "6deae394-6cdd-4972-d517-7895226fbd51"
   },
   "outputs": [
    {
     "data": {
      "text/html": [
       "<div>\n",
       "<style scoped>\n",
       "    .dataframe tbody tr th:only-of-type {\n",
       "        vertical-align: middle;\n",
       "    }\n",
       "\n",
       "    .dataframe tbody tr th {\n",
       "        vertical-align: top;\n",
       "    }\n",
       "\n",
       "    .dataframe thead th {\n",
       "        text-align: right;\n",
       "    }\n",
       "</style>\n",
       "<table border=\"1\" class=\"dataframe\">\n",
       "  <thead>\n",
       "    <tr style=\"text-align: right;\">\n",
       "      <th></th>\n",
       "      <th>PassengerId</th>\n",
       "      <th>Survived</th>\n",
       "      <th>Pclass</th>\n",
       "      <th>Name</th>\n",
       "      <th>Sex</th>\n",
       "      <th>Age</th>\n",
       "      <th>SibSp</th>\n",
       "      <th>Parch</th>\n",
       "      <th>Ticket</th>\n",
       "      <th>Fare</th>\n",
       "      <th>Cabin</th>\n",
       "      <th>Embarked</th>\n",
       "    </tr>\n",
       "  </thead>\n",
       "  <tbody>\n",
       "    <tr>\n",
       "      <th>0</th>\n",
       "      <td>1</td>\n",
       "      <td>0</td>\n",
       "      <td>3</td>\n",
       "      <td>Braund, Mr. Owen Harris</td>\n",
       "      <td>male</td>\n",
       "      <td>22.0</td>\n",
       "      <td>1</td>\n",
       "      <td>0</td>\n",
       "      <td>A/5 21171</td>\n",
       "      <td>7.2500</td>\n",
       "      <td>NaN</td>\n",
       "      <td>S</td>\n",
       "    </tr>\n",
       "    <tr>\n",
       "      <th>1</th>\n",
       "      <td>2</td>\n",
       "      <td>1</td>\n",
       "      <td>1</td>\n",
       "      <td>Cumings, Mrs. John Bradley (Florence Briggs Th...</td>\n",
       "      <td>female</td>\n",
       "      <td>38.0</td>\n",
       "      <td>1</td>\n",
       "      <td>0</td>\n",
       "      <td>PC 17599</td>\n",
       "      <td>71.2833</td>\n",
       "      <td>C85</td>\n",
       "      <td>C</td>\n",
       "    </tr>\n",
       "    <tr>\n",
       "      <th>2</th>\n",
       "      <td>3</td>\n",
       "      <td>1</td>\n",
       "      <td>3</td>\n",
       "      <td>Heikkinen, Miss. Laina</td>\n",
       "      <td>female</td>\n",
       "      <td>26.0</td>\n",
       "      <td>0</td>\n",
       "      <td>0</td>\n",
       "      <td>STON/O2. 3101282</td>\n",
       "      <td>7.9250</td>\n",
       "      <td>NaN</td>\n",
       "      <td>S</td>\n",
       "    </tr>\n",
       "    <tr>\n",
       "      <th>3</th>\n",
       "      <td>4</td>\n",
       "      <td>1</td>\n",
       "      <td>1</td>\n",
       "      <td>Futrelle, Mrs. Jacques Heath (Lily May Peel)</td>\n",
       "      <td>female</td>\n",
       "      <td>35.0</td>\n",
       "      <td>1</td>\n",
       "      <td>0</td>\n",
       "      <td>113803</td>\n",
       "      <td>53.1000</td>\n",
       "      <td>C123</td>\n",
       "      <td>S</td>\n",
       "    </tr>\n",
       "    <tr>\n",
       "      <th>4</th>\n",
       "      <td>5</td>\n",
       "      <td>0</td>\n",
       "      <td>3</td>\n",
       "      <td>Allen, Mr. William Henry</td>\n",
       "      <td>male</td>\n",
       "      <td>35.0</td>\n",
       "      <td>0</td>\n",
       "      <td>0</td>\n",
       "      <td>373450</td>\n",
       "      <td>8.0500</td>\n",
       "      <td>NaN</td>\n",
       "      <td>S</td>\n",
       "    </tr>\n",
       "  </tbody>\n",
       "</table>\n",
       "</div>"
      ],
      "text/plain": [
       "   PassengerId  Survived  Pclass  \\\n",
       "0            1         0       3   \n",
       "1            2         1       1   \n",
       "2            3         1       3   \n",
       "3            4         1       1   \n",
       "4            5         0       3   \n",
       "\n",
       "                                                Name     Sex   Age  SibSp  \\\n",
       "0                            Braund, Mr. Owen Harris    male  22.0      1   \n",
       "1  Cumings, Mrs. John Bradley (Florence Briggs Th...  female  38.0      1   \n",
       "2                             Heikkinen, Miss. Laina  female  26.0      0   \n",
       "3       Futrelle, Mrs. Jacques Heath (Lily May Peel)  female  35.0      1   \n",
       "4                           Allen, Mr. William Henry    male  35.0      0   \n",
       "\n",
       "   Parch            Ticket     Fare Cabin Embarked  \n",
       "0      0         A/5 21171   7.2500   NaN        S  \n",
       "1      0          PC 17599  71.2833   C85        C  \n",
       "2      0  STON/O2. 3101282   7.9250   NaN        S  \n",
       "3      0            113803  53.1000  C123        S  \n",
       "4      0            373450   8.0500   NaN        S  "
      ]
     },
     "execution_count": 44,
     "metadata": {},
     "output_type": "execute_result"
    }
   ],
   "source": [
    "# Charger les données\n",
    "train_data = pd.read_csv(\"train.csv\")\n",
    "\n",
    "# Afficher les 5 premières lignes des données\n",
    "train_data.head()"
   ]
  },
  {
   "cell_type": "markdown",
   "metadata": {
    "_uuid": "28e43efffcc2aa5ebca2c85599d550b415d42c35",
    "id": "9LBvduwesqEy"
   },
   "source": [
    "## <center> Visualize and preprocess train data </center>"
   ]
  },
  {
   "cell_type": "markdown",
   "metadata": {
    "_uuid": "2d0c1820494b8b711f9a41e7182f0e6440f362ce",
    "id": "6H92R3Z3sqEy"
   },
   "source": [
    "### Describe data"
   ]
  },
  {
   "cell_type": "code",
   "execution_count": 45,
   "metadata": {
    "_uuid": "30b5ce408fa839f7e874375d1a2b34d7d49c71b9",
    "colab": {
     "base_uri": "https://localhost:8080/",
     "height": 300
    },
    "id": "GjD8LsFysqEy",
    "outputId": "c26a53e3-ad92-4e6c-97e3-e3fc1c0443a1"
   },
   "outputs": [
    {
     "data": {
      "text/html": [
       "<div>\n",
       "<style scoped>\n",
       "    .dataframe tbody tr th:only-of-type {\n",
       "        vertical-align: middle;\n",
       "    }\n",
       "\n",
       "    .dataframe tbody tr th {\n",
       "        vertical-align: top;\n",
       "    }\n",
       "\n",
       "    .dataframe thead th {\n",
       "        text-align: right;\n",
       "    }\n",
       "</style>\n",
       "<table border=\"1\" class=\"dataframe\">\n",
       "  <thead>\n",
       "    <tr style=\"text-align: right;\">\n",
       "      <th></th>\n",
       "      <th>PassengerId</th>\n",
       "      <th>Survived</th>\n",
       "      <th>Pclass</th>\n",
       "      <th>Age</th>\n",
       "      <th>SibSp</th>\n",
       "      <th>Parch</th>\n",
       "      <th>Fare</th>\n",
       "    </tr>\n",
       "  </thead>\n",
       "  <tbody>\n",
       "    <tr>\n",
       "      <th>count</th>\n",
       "      <td>891.000000</td>\n",
       "      <td>891.000000</td>\n",
       "      <td>891.000000</td>\n",
       "      <td>714.000000</td>\n",
       "      <td>891.000000</td>\n",
       "      <td>891.000000</td>\n",
       "      <td>891.000000</td>\n",
       "    </tr>\n",
       "    <tr>\n",
       "      <th>mean</th>\n",
       "      <td>446.000000</td>\n",
       "      <td>0.383838</td>\n",
       "      <td>2.308642</td>\n",
       "      <td>29.699118</td>\n",
       "      <td>0.523008</td>\n",
       "      <td>0.381594</td>\n",
       "      <td>32.204208</td>\n",
       "    </tr>\n",
       "    <tr>\n",
       "      <th>std</th>\n",
       "      <td>257.353842</td>\n",
       "      <td>0.486592</td>\n",
       "      <td>0.836071</td>\n",
       "      <td>14.526497</td>\n",
       "      <td>1.102743</td>\n",
       "      <td>0.806057</td>\n",
       "      <td>49.693429</td>\n",
       "    </tr>\n",
       "    <tr>\n",
       "      <th>min</th>\n",
       "      <td>1.000000</td>\n",
       "      <td>0.000000</td>\n",
       "      <td>1.000000</td>\n",
       "      <td>0.420000</td>\n",
       "      <td>0.000000</td>\n",
       "      <td>0.000000</td>\n",
       "      <td>0.000000</td>\n",
       "    </tr>\n",
       "    <tr>\n",
       "      <th>25%</th>\n",
       "      <td>223.500000</td>\n",
       "      <td>0.000000</td>\n",
       "      <td>2.000000</td>\n",
       "      <td>20.125000</td>\n",
       "      <td>0.000000</td>\n",
       "      <td>0.000000</td>\n",
       "      <td>7.910400</td>\n",
       "    </tr>\n",
       "    <tr>\n",
       "      <th>50%</th>\n",
       "      <td>446.000000</td>\n",
       "      <td>0.000000</td>\n",
       "      <td>3.000000</td>\n",
       "      <td>28.000000</td>\n",
       "      <td>0.000000</td>\n",
       "      <td>0.000000</td>\n",
       "      <td>14.454200</td>\n",
       "    </tr>\n",
       "    <tr>\n",
       "      <th>75%</th>\n",
       "      <td>668.500000</td>\n",
       "      <td>1.000000</td>\n",
       "      <td>3.000000</td>\n",
       "      <td>38.000000</td>\n",
       "      <td>1.000000</td>\n",
       "      <td>0.000000</td>\n",
       "      <td>31.000000</td>\n",
       "    </tr>\n",
       "    <tr>\n",
       "      <th>max</th>\n",
       "      <td>891.000000</td>\n",
       "      <td>1.000000</td>\n",
       "      <td>3.000000</td>\n",
       "      <td>80.000000</td>\n",
       "      <td>8.000000</td>\n",
       "      <td>6.000000</td>\n",
       "      <td>512.329200</td>\n",
       "    </tr>\n",
       "  </tbody>\n",
       "</table>\n",
       "</div>"
      ],
      "text/plain": [
       "       PassengerId    Survived      Pclass         Age       SibSp  \\\n",
       "count   891.000000  891.000000  891.000000  714.000000  891.000000   \n",
       "mean    446.000000    0.383838    2.308642   29.699118    0.523008   \n",
       "std     257.353842    0.486592    0.836071   14.526497    1.102743   \n",
       "min       1.000000    0.000000    1.000000    0.420000    0.000000   \n",
       "25%     223.500000    0.000000    2.000000   20.125000    0.000000   \n",
       "50%     446.000000    0.000000    3.000000   28.000000    0.000000   \n",
       "75%     668.500000    1.000000    3.000000   38.000000    1.000000   \n",
       "max     891.000000    1.000000    3.000000   80.000000    8.000000   \n",
       "\n",
       "            Parch        Fare  \n",
       "count  891.000000  891.000000  \n",
       "mean     0.381594   32.204208  \n",
       "std      0.806057   49.693429  \n",
       "min      0.000000    0.000000  \n",
       "25%      0.000000    7.910400  \n",
       "50%      0.000000   14.454200  \n",
       "75%      0.000000   31.000000  \n",
       "max      6.000000  512.329200  "
      ]
     },
     "execution_count": 45,
     "metadata": {},
     "output_type": "execute_result"
    }
   ],
   "source": [
    "train_data.describe()"
   ]
  },
  {
   "cell_type": "markdown",
   "metadata": {
    "_uuid": "0e20811dce0f522653c1dac30725f52d1f30a364",
    "id": "daV-89orsqEy"
   },
   "source": [
    "### Columns"
   ]
  },
  {
   "cell_type": "code",
   "execution_count": 46,
   "metadata": {
    "_uuid": "c5e5367fcf780d0dbfd0ad36187d1a9cceb479d4",
    "colab": {
     "base_uri": "https://localhost:8080/"
    },
    "id": "XVfkOmYUsqEy",
    "outputId": "2e65f3dd-8338-458b-83de-57de6edfd9b3"
   },
   "outputs": [
    {
     "data": {
      "text/plain": [
       "Index(['PassengerId', 'Survived', 'Pclass', 'Name', 'Sex', 'Age', 'SibSp',\n",
       "       'Parch', 'Ticket', 'Fare', 'Cabin', 'Embarked'],\n",
       "      dtype='object')"
      ]
     },
     "execution_count": 46,
     "metadata": {},
     "output_type": "execute_result"
    }
   ],
   "source": [
    "train_data.columns"
   ]
  },
  {
   "cell_type": "markdown",
   "metadata": {
    "_uuid": "efcf5cca6812b1a0dbe8989a79bbdff7fb47faa6",
    "id": "SBiYf4SKsqEy"
   },
   "source": [
    "### Data type of each column"
   ]
  },
  {
   "cell_type": "code",
   "execution_count": 47,
   "metadata": {
    "_uuid": "ce3e118d6d64660a6ab0185e5265ff9e91ba3314",
    "colab": {
     "base_uri": "https://localhost:8080/"
    },
    "id": "uk5Oxv-FsqEz",
    "outputId": "1f574f06-0a5e-4ace-a472-60c6693ec81d"
   },
   "outputs": [
    {
     "data": {
      "text/plain": [
       "PassengerId      int64\n",
       "Survived         int64\n",
       "Pclass           int64\n",
       "Name            object\n",
       "Sex             object\n",
       "Age            float64\n",
       "SibSp            int64\n",
       "Parch            int64\n",
       "Ticket          object\n",
       "Fare           float64\n",
       "Cabin           object\n",
       "Embarked        object\n",
       "dtype: object"
      ]
     },
     "execution_count": 47,
     "metadata": {},
     "output_type": "execute_result"
    }
   ],
   "source": [
    "train_data.dtypes"
   ]
  },
  {
   "cell_type": "markdown",
   "metadata": {
    "_uuid": "965f11c73a231fc6eed9fd8a92e364252ba004c8",
    "id": "iq1apQc8sqEz"
   },
   "source": [
    "### Données manquantes"
   ]
  },
  {
   "cell_type": "markdown",
   "metadata": {
    "id": "EWlGDhrMuB_b"
   },
   "source": [
    "1) Pour chaque colonne du jeu de données, comptez le nombre de données manquantes. Utilisez pour cela la fonction \"dataframe[colonne].isnull().sum()"
   ]
  },
  {
   "cell_type": "code",
   "execution_count": 48,
   "metadata": {
    "_uuid": "1e9e85484659d1990dea0fa0e202f1cd2626ae95",
    "colab": {
     "base_uri": "https://localhost:8080/"
    },
    "id": "qQUes2YEsqEz",
    "outputId": "45153666-8fe3-4037-bc8c-f3f6fbd272c9"
   },
   "outputs": [
    {
     "name": "stdout",
     "output_type": "stream",
     "text": [
      "PassengerId - 0\n",
      "Survived - 0\n",
      "Pclass - 0\n",
      "Name - 0\n",
      "Sex - 0\n",
      "Age - 177\n",
      "SibSp - 0\n",
      "Parch - 0\n",
      "Ticket - 0\n",
      "Fare - 0\n",
      "Cabin - 687\n",
      "Embarked - 2\n"
     ]
    }
   ],
   "source": [
    "column_names = train_data.columns\n",
    "for column in column_names:\n",
    "    print(column + ' - ' + str(train_data[column].isnull().sum()))"
   ]
  },
  {
   "cell_type": "markdown",
   "metadata": {
    "_uuid": "fac2134700a710b6bd4213beb76204a94c85aba9",
    "id": "zymDcG67sqEz"
   },
   "source": [
    "Qu'observez-vous ?"
   ]
  },
  {
   "cell_type": "code",
   "execution_count": 49,
   "metadata": {
    "colab": {
     "base_uri": "https://localhost:8080/",
     "height": 165
    },
    "id": "Ep05bVhVt8ej",
    "outputId": "35a53132-d0d5-4f4b-bd15-90e2c0fce97c"
   },
   "outputs": [
    {
     "data": {
      "text/plain": [
       "<AxesSubplot:>"
      ]
     },
     "execution_count": 49,
     "metadata": {},
     "output_type": "execute_result"
    },
    {
     "data": {
      "image/png": "[encoded data removed]",
      "text/plain": [
       "<Figure size 432x288 with 1 Axes>"
      ]
     },
     "metadata": {
      "needs_background": "light"
     },
     "output_type": "display_data"
    }
   ],
   "source": [
    "sns.heatmap(train_data.isnull(), cmap='viridis', cbar=False)"
   ]
  },
  {
   "cell_type": "markdown",
   "metadata": {
    "_uuid": "8f83f0fc1fc338210525100b693a370aa4a955e0",
    "id": "XOawCEuDsqEz"
   },
   "source": [
    "### Insights\n",
    "- 'Survived' est la colonne/variable cible.\n",
    "- 'PassengerId', 'Name' et 'Ticket' ne contribuent pas à la variable cible 'Survived'. Nous pouvons donc les supprimer des données.\n",
    "- 'Age' et 'Embarked' ont moins de valeurs manquantes. Nous devons les imputer en utilisant différentes techniques.\n",
    "- Comme il y a beaucoup de valeurs manquantes dans la colonne \"Cabine\", nous pouvons la supprimer des données d'apprentissage.\n",
    "- Les colonnes 'Pclass', 'Sex', 'SibSp', 'Parch', 'Fare' n'ont pas de valeurs manquantes. \n",
    "- Nous pouvons également créer une nouvelle variable telle que \"taille totale de la famille\" à partir des colonnes \"SibSp\" et \"Parch\"."
   ]
  },
  {
   "cell_type": "markdown",
   "metadata": {
    "_uuid": "53cc6aa5839cfe2de5b82aa8febe2efe5ba2dae4",
    "id": "X2B81JEysqE0"
   },
   "source": [
    "### Visualisation des \"survivants\" (colonne cible)\n",
    "- Comme nous le savons, la majorité des passagers n'ont pas survécu.\n",
    "- Les données sont déséquilibrées."
   ]
  },
  {
   "cell_type": "markdown",
   "metadata": {
    "id": "2h_21ry3w4J9"
   },
   "source": [
    " 2) Afficher le nombre de personnes qui ont survécues vs non survécues :"
   ]
  },
  {
   "cell_type": "code",
   "execution_count": 50,
   "metadata": {
    "_uuid": "22ee498d6b1192e9e6f3dd6dc6eaa636467e4695",
    "id": "g-RJsDpOsqE0"
   },
   "outputs": [
    {
     "name": "stdout",
     "output_type": "stream",
     "text": [
      "0    549\n",
      "1    342\n",
      "Name: Survived, dtype: int64\n"
     ]
    }
   ],
   "source": [
    "print(train_data.Survived.value_counts())"
   ]
  },
  {
   "cell_type": "markdown",
   "metadata": {
    "id": "sHgdWdFExfro"
   },
   "source": [
    "3) Pour chaque collone, affichez la distribution des données pour bien comprendre le jeu de données et mettez en les en comparaisons avec la colonne \"Survived\"\n",
    "Par exemple, on souhaite visualiser l'impact du prix du billet d'un voyager sur sa chance de survie, y-at'il une corrélation ? "
   ]
  },
  {
   "cell_type": "markdown",
   "metadata": {
    "_uuid": "3c19dc2f5f965834e4a187dc88091e758d00e5d7",
    "id": "DLebGXTysqE0"
   },
   "source": [
    "### Pclass\n",
    "- La majorité d'entre eux sont issus de la troisième classe."
   ]
  },
  {
   "cell_type": "code",
   "execution_count": 51,
   "metadata": {
    "_uuid": "f32e7853099fdc47898f290548f1d1d5070397ca",
    "id": "nG3FVK70sqE0"
   },
   "outputs": [
    {
     "data": {
      "text/plain": [
       "Text(0, 0.5, 'Survival Probability')"
      ]
     },
     "execution_count": 51,
     "metadata": {},
     "output_type": "execute_result"
    },
    {
     "data": {
      "image/png": "[encoded data removed]",
      "text/plain": [
       "<Figure size 432x288 with 1 Axes>"
      ]
     },
     "metadata": {
      "needs_background": "light"
     },
     "output_type": "display_data"
    }
   ],
   "source": [
    "plt = train_data.Pclass.value_counts().sort_index().plot(kind='bar', title='')\n",
    "plt.set_xlabel('Pclass')\n",
    "plt.set_ylabel('Survival Probability')"
   ]
  },
  {
   "cell_type": "code",
   "execution_count": 52,
   "metadata": {
    "_uuid": "a660aa471e4320804bca7cc53ffa3f5cdf03c649",
    "id": "W27lxB6tsqE1"
   },
   "outputs": [
    {
     "data": {
      "text/html": [
       "<div>\n",
       "<style scoped>\n",
       "    .dataframe tbody tr th:only-of-type {\n",
       "        vertical-align: middle;\n",
       "    }\n",
       "\n",
       "    .dataframe tbody tr th {\n",
       "        vertical-align: top;\n",
       "    }\n",
       "\n",
       "    .dataframe thead th {\n",
       "        text-align: right;\n",
       "    }\n",
       "</style>\n",
       "<table border=\"1\" class=\"dataframe\">\n",
       "  <thead>\n",
       "    <tr style=\"text-align: right;\">\n",
       "      <th></th>\n",
       "      <th>Survived</th>\n",
       "    </tr>\n",
       "    <tr>\n",
       "      <th>Pclass</th>\n",
       "      <th></th>\n",
       "    </tr>\n",
       "  </thead>\n",
       "  <tbody>\n",
       "    <tr>\n",
       "      <th>1</th>\n",
       "      <td>216</td>\n",
       "    </tr>\n",
       "    <tr>\n",
       "      <th>2</th>\n",
       "      <td>184</td>\n",
       "    </tr>\n",
       "    <tr>\n",
       "      <th>3</th>\n",
       "      <td>491</td>\n",
       "    </tr>\n",
       "  </tbody>\n",
       "</table>\n",
       "</div>"
      ],
      "text/plain": [
       "        Survived\n",
       "Pclass          \n",
       "1            216\n",
       "2            184\n",
       "3            491"
      ]
     },
     "execution_count": 52,
     "metadata": {},
     "output_type": "execute_result"
    }
   ],
   "source": [
    "train_data[['Pclass', 'Survived']].groupby('Pclass').count()"
   ]
  },
  {
   "cell_type": "code",
   "execution_count": 53,
   "metadata": {
    "_uuid": "e05019c1f3df31a06f6c5d8dc1b82d95c11d2e82",
    "id": "x7uIbmI_sqE1"
   },
   "outputs": [
    {
     "data": {
      "text/html": [
       "<div>\n",
       "<style scoped>\n",
       "    .dataframe tbody tr th:only-of-type {\n",
       "        vertical-align: middle;\n",
       "    }\n",
       "\n",
       "    .dataframe tbody tr th {\n",
       "        vertical-align: top;\n",
       "    }\n",
       "\n",
       "    .dataframe thead th {\n",
       "        text-align: right;\n",
       "    }\n",
       "</style>\n",
       "<table border=\"1\" class=\"dataframe\">\n",
       "  <thead>\n",
       "    <tr style=\"text-align: right;\">\n",
       "      <th></th>\n",
       "      <th>Survived</th>\n",
       "    </tr>\n",
       "    <tr>\n",
       "      <th>Pclass</th>\n",
       "      <th></th>\n",
       "    </tr>\n",
       "  </thead>\n",
       "  <tbody>\n",
       "    <tr>\n",
       "      <th>1</th>\n",
       "      <td>136</td>\n",
       "    </tr>\n",
       "    <tr>\n",
       "      <th>2</th>\n",
       "      <td>87</td>\n",
       "    </tr>\n",
       "    <tr>\n",
       "      <th>3</th>\n",
       "      <td>119</td>\n",
       "    </tr>\n",
       "  </tbody>\n",
       "</table>\n",
       "</div>"
      ],
      "text/plain": [
       "        Survived\n",
       "Pclass          \n",
       "1            136\n",
       "2             87\n",
       "3            119"
      ]
     },
     "execution_count": 53,
     "metadata": {},
     "output_type": "execute_result"
    }
   ],
   "source": [
    "train_data[['Pclass', 'Survived']].groupby('Pclass').sum()"
   ]
  },
  {
   "cell_type": "markdown",
   "metadata": {
    "_uuid": "9ce7f9b47c30e10585f83a5fd1894f477a8c4ea3",
    "id": "zbe1K0iDsqE1"
   },
   "source": [
    "### Pclass - probability de survivre"
   ]
  },
  {
   "cell_type": "code",
   "execution_count": 54,
   "metadata": {
    "_uuid": "fadac5a8bb13dc78437c177dc1be302d77d2bcb1",
    "id": "FNA8g0LCsqE1"
   },
   "outputs": [
    {
     "data": {
      "text/plain": [
       "Text(0, 0.5, 'Survival Probability')"
      ]
     },
     "execution_count": 54,
     "metadata": {},
     "output_type": "execute_result"
    },
    {
     "data": {
      "image/png": "[encoded data removed]",
      "text/plain": [
       "<Figure size 432x288 with 1 Axes>"
      ]
     },
     "metadata": {
      "needs_background": "light"
     },
     "output_type": "display_data"
    }
   ],
   "source": [
    "plt = train_data[['Pclass', 'Survived']].groupby('Pclass').mean().Survived.plot(kind='bar')\n",
    "plt.set_xlabel('Pclass')\n",
    "plt.set_ylabel('Survival Probability')"
   ]
  },
  {
   "cell_type": "markdown",
   "metadata": {
    "_uuid": "517cd621276f830c537ad00c471c28dd42aa8d32",
    "id": "j5c3or8esqE1"
   },
   "source": [
    "- From the above results, we can say that, 1st class has high chance of surviving than the other two classes."
   ]
  },
  {
   "cell_type": "markdown",
   "metadata": {
    "_uuid": "9beeae971ff9fb01ac8604fe4bad5bfd1f1ee20e",
    "id": "aOkQsjFJsqE1"
   },
   "source": [
    "### Sex\n",
    "- Majority of them are Male."
   ]
  },
  {
   "cell_type": "code",
   "execution_count": 55,
   "metadata": {
    "_uuid": "2a2c15afd6ad99ad2a07572cc43421d02984225a",
    "id": "ksh1ssQVsqE2"
   },
   "outputs": [
    {
     "data": {
      "text/plain": [
       "Text(0, 0.5, 'Passenger count')"
      ]
     },
     "execution_count": 55,
     "metadata": {},
     "output_type": "execute_result"
    },
    {
     "data": {
      "image/png": "[encoded data removed]",
      "text/plain": [
       "<Figure size 432x288 with 1 Axes>"
      ]
     },
     "metadata": {
      "needs_background": "light"
     },
     "output_type": "display_data"
    }
   ],
   "source": [
    "plt = train_data.Sex.value_counts().sort_index().plot(kind='bar')\n",
    "plt.set_xlabel('Sex')\n",
    "plt.set_ylabel('Passenger count')"
   ]
  },
  {
   "cell_type": "markdown",
   "metadata": {
    "_uuid": "5660cd18c0ebedf596495c7e3f604e9e423e763e",
    "id": "BbFJMrXNsqE2"
   },
   "source": [
    "### Sexe - Probabilité de survie\n",
    "- Comme nous le voyons, la probabilité de survie des femmes est plus élevée. Il est possible qu'ils aient donné plus de priorité aux femmes qu'aux hommes."
   ]
  },
  {
   "cell_type": "code",
   "execution_count": 56,
   "metadata": {
    "_uuid": "caa4adfa681008b9ca7f978161a24e5d4e1b4287",
    "id": "qLxAks4gsqE2"
   },
   "outputs": [
    {
     "data": {
      "text/plain": [
       "Text(0, 0.5, 'Survival Probability')"
      ]
     },
     "execution_count": 56,
     "metadata": {},
     "output_type": "execute_result"
    },
    {
     "data": {
      "image/png": "[encoded data removed]",
      "text/plain": [
       "<Figure size 432x288 with 1 Axes>"
      ]
     },
     "metadata": {
      "needs_background": "light"
     },
     "output_type": "display_data"
    }
   ],
   "source": [
    "plt = train_data[['Sex', 'Survived']].groupby('Sex').mean().Survived.plot(kind='bar')\n",
    "plt.set_xlabel('Sex')\n",
    "plt.set_ylabel('Survival Probability')"
   ]
  },
  {
   "cell_type": "markdown",
   "metadata": {
    "_uuid": "6c12d98eca529bf57f476ff8ccaa6c1fc0dc2894",
    "id": "DRFqwOTNsqE2"
   },
   "source": [
    "### Embarqués\n",
    "- La plupart d'entre eux sont originaires de Southampton(S)."
   ]
  },
  {
   "cell_type": "code",
   "execution_count": 57,
   "metadata": {
    "_uuid": "fea0e43a65144a12057074763c38d27785e72866",
    "colab": {
     "base_uri": "https://localhost:8080/",
     "height": 463
    },
    "id": "a0ALuc3TsqE2",
    "outputId": "274ae3f9-ab18-48fb-a400-c6f1de699a93"
   },
   "outputs": [
    {
     "data": {
      "text/plain": [
       "Text(0, 0.5, 'Passenger count')"
      ]
     },
     "execution_count": 57,
     "metadata": {},
     "output_type": "execute_result"
    },
    {
     "data": {
      "image/png": "[encoded data removed]",
      "text/plain": [
       "<Figure size 432x288 with 1 Axes>"
      ]
     },
     "metadata": {
      "needs_background": "light"
     },
     "output_type": "display_data"
    }
   ],
   "source": [
    "plt = train_data.Embarked.value_counts().sort_index().plot(kind='bar')\n",
    "plt.set_xlabel('Embarked')\n",
    "plt.set_ylabel('Passenger count')"
   ]
  },
  {
   "cell_type": "markdown",
   "metadata": {
    "_uuid": "195004069be65f5aeb97ce0573cb71b38710585b",
    "id": "yen45fLPsqE3"
   },
   "source": [
    "### Embarqués - Probabilité de survie\n",
    "- Probabilité de survie : C > Q > S"
   ]
  },
  {
   "cell_type": "code",
   "execution_count": 58,
   "metadata": {
    "_uuid": "3982d18e1a8ea07003360bb3ca76594743c80102",
    "colab": {
     "base_uri": "https://localhost:8080/",
     "height": 463
    },
    "id": "yLYgh2yOsqE3",
    "outputId": "7d857c26-c4fe-4174-bff4-5046968a9da6"
   },
   "outputs": [
    {
     "data": {
      "text/plain": [
       "Text(0, 0.5, 'Survival Probability')"
      ]
     },
     "execution_count": 58,
     "metadata": {},
     "output_type": "execute_result"
    },
    {
     "data": {
      "image/png": "[encoded data removed]",
      "text/plain": [
       "<Figure size 432x288 with 1 Axes>"
      ]
     },
     "metadata": {
      "needs_background": "light"
     },
     "output_type": "display_data"
    }
   ],
   "source": [
    "plt = train_data[['Embarked', 'Survived']].groupby('Embarked').mean().Survived.plot(kind='bar')\n",
    "plt.set_xlabel('Embarked')\n",
    "plt.set_ylabel('Survival Probability')"
   ]
  },
  {
   "cell_type": "markdown",
   "metadata": {
    "_uuid": "00629c6ec098835993c942f6808144a86095d8e8",
    "id": "1nXDqFL6sqE3"
   },
   "source": [
    "### SibSp - Siblings/Spouse"
   ]
  },
  {
   "cell_type": "code",
   "execution_count": 59,
   "metadata": {
    "_uuid": "8dc066a82f2d208a79ad8802e3db131f5e84bfb1",
    "colab": {
     "base_uri": "https://localhost:8080/",
     "height": 461
    },
    "id": "_kEgXFKSsqE3",
    "outputId": "b1e592b0-6a41-4a22-e3ff-66a5678dfe2f"
   },
   "outputs": [
    {
     "data": {
      "text/plain": [
       "Text(0, 0.5, 'Passenger count')"
      ]
     },
     "execution_count": 59,
     "metadata": {},
     "output_type": "execute_result"
    },
    {
     "data": {
      "image/png": "[encoded data removed]",
      "text/plain": [
       "<Figure size 432x288 with 1 Axes>"
      ]
     },
     "metadata": {
      "needs_background": "light"
     },
     "output_type": "display_data"
    }
   ],
   "source": [
    "plt = train_data.SibSp.value_counts().sort_index().plot(kind='bar')\n",
    "plt.set_xlabel('SibSp')\n",
    "plt.set_ylabel('Passenger count')"
   ]
  },
  {
   "cell_type": "markdown",
   "metadata": {
    "_uuid": "e7b210be235f8fea4c5840c6f4b0964dffd21fa2",
    "id": "uzF8xGPJsqE3"
   },
   "source": [
    "- Comme on peut le voir, la majorité d'entre eux n'ont pas de frère ou de sœur ni de conjoint."
   ]
  },
  {
   "cell_type": "code",
   "execution_count": 60,
   "metadata": {
    "_uuid": "bb65ca71ce698eae1bac952c265ee0714d7551aa",
    "colab": {
     "base_uri": "https://localhost:8080/",
     "height": 461
    },
    "id": "AM71x_cfsqE3",
    "outputId": "923735a8-e81e-45d5-8891-9dac0915845b"
   },
   "outputs": [
    {
     "data": {
      "text/plain": [
       "Text(0, 0.5, 'Survival Probability')"
      ]
     },
     "execution_count": 60,
     "metadata": {},
     "output_type": "execute_result"
    },
    {
     "data": {
      "image/png": "[encoded data removed]",
      "text/plain": [
       "<Figure size 432x288 with 1 Axes>"
      ]
     },
     "metadata": {
      "needs_background": "light"
     },
     "output_type": "display_data"
    }
   ],
   "source": [
    "plt = train_data[['SibSp', 'Survived']].groupby('SibSp').mean().Survived.plot(kind='bar')\n",
    "plt.set_xlabel('SibSp')\n",
    "plt.set_ylabel('Survival Probability')"
   ]
  },
  {
   "cell_type": "markdown",
   "metadata": {
    "_uuid": "d175fdd55eb9868a8170ea752a03256e14f9e629",
    "id": "AtIAlLObsqE3"
   },
   "source": [
    "- Les passagers ayant un frère ou une sœur/un conjoint ont une probabilité de survie plus élevée.\n",
    "- '1' > '2' > '0' > '3' > '4'"
   ]
  },
  {
   "cell_type": "markdown",
   "metadata": {
    "_uuid": "741c293688a76cfb8725a7d464d431ff9666874e",
    "id": "np6j1rISsqE4"
   },
   "source": [
    "### Parch - Children/Parents"
   ]
  },
  {
   "cell_type": "code",
   "execution_count": 61,
   "metadata": {
    "_uuid": "d8f2bebe0dfb0d45ec6534b24de7875decd6c252",
    "colab": {
     "base_uri": "https://localhost:8080/",
     "height": 461
    },
    "id": "li3vpewBsqE4",
    "outputId": "851b0a88-9fbb-4f34-9510-b7beea310732"
   },
   "outputs": [
    {
     "data": {
      "text/plain": [
       "Text(0, 0.5, 'Passenger count')"
      ]
     },
     "execution_count": 61,
     "metadata": {},
     "output_type": "execute_result"
    },
    {
     "data": {
      "image/png": "[encoded data removed]",
      "text/plain": [
       "<Figure size 432x288 with 1 Axes>"
      ]
     },
     "metadata": {
      "needs_background": "light"
     },
     "output_type": "display_data"
    }
   ],
   "source": [
    "plt = train_data.Parch.value_counts().sort_index().plot(kind='bar')\n",
    "plt.set_xlabel('Parch')\n",
    "plt.set_ylabel('Passenger count')"
   ]
  },
  {
   "cell_type": "markdown",
   "metadata": {
    "_uuid": "9a7a795fd0fa7207caa38a55b71aa9a8a0529d30",
    "id": "LcQDQ9HzsqE4"
   },
   "source": [
    "- Comme nous pouvons le constater, la majorité d'entre eux n'ont pas d'enfants/de parents."
   ]
  },
  {
   "cell_type": "code",
   "execution_count": 62,
   "metadata": {
    "_uuid": "90dbfa3d17f8754bfb70bb2c24b30d13a725476c",
    "colab": {
     "base_uri": "https://localhost:8080/",
     "height": 461
    },
    "id": "YcwpwZ6rsqE4",
    "outputId": "1e6a7288-e885-448e-c76d-975b80682c9a"
   },
   "outputs": [
    {
     "data": {
      "text/plain": [
       "Text(0, 0.5, 'Survival Probability')"
      ]
     },
     "execution_count": 62,
     "metadata": {},
     "output_type": "execute_result"
    },
    {
     "data": {
      "image/png": "[encoded data removed]",
      "text/plain": [
       "<Figure size 432x288 with 1 Axes>"
      ]
     },
     "metadata": {
      "needs_background": "light"
     },
     "output_type": "display_data"
    }
   ],
   "source": [
    "plt = train_data[['Parch', 'Survived']].groupby('Parch').mean().Survived.plot(kind='bar')\n",
    "plt.set_xlabel('Parch')\n",
    "plt.set_ylabel('Survival Probability')"
   ]
  },
  {
   "cell_type": "markdown",
   "metadata": {
    "_uuid": "bf9e6ef121fae3b895c546869469e45f84500be8",
    "id": "IHNJFCiGsqE4"
   },
   "source": [
    "- Les passagers ayant trois enfants/parents ont une probabilité de survie plus élevée.\n",
    "- '3' > '1' > '2' > '0' > '5'"
   ]
  },
  {
   "cell_type": "markdown",
   "metadata": {
    "id": "5RelugPA0In_"
   },
   "source": [
    "## Corrélations :\n",
    "4) à l'aide de la fonction corr() de pandas, affichez une visualisation permettant de visualiser quelles variables sont corélées entre elles."
   ]
  },
  {
   "cell_type": "code",
   "execution_count": 63,
   "metadata": {
    "colab": {
     "base_uri": "https://localhost:8080/",
     "height": 754
    },
    "id": "ErmaHi2y0Zkt",
    "outputId": "4ce55983-3a53-41a9-a524-fc0f259800a0"
   },
   "outputs": [
    {
     "data": {
      "text/plain": [
       "<AxesSubplot:>"
      ]
     },
     "execution_count": 63,
     "metadata": {},
     "output_type": "execute_result"
    },
    {
     "data": {
      "image/png": "[encoded data removed]",
      "text/plain": [
       "<Figure size 648x576 with 2 Axes>"
      ]
     },
     "metadata": {
      "needs_background": "light"
     },
     "output_type": "display_data"
    }
   ],
   "source": [
    "corr_matrix = train_data.corr()\n",
    "import matplotlib.pyplot as plt\n",
    "plt.figure(figsize=(9, 8))\n",
    "sns.heatmap(data = corr_matrix,cmap='BrBG', annot=True, linewidths=0.2)"
   ]
  },
  {
   "cell_type": "markdown",
   "metadata": {
    "id": "LYtpD8w7zbHP"
   },
   "source": [
    "# Preprocessing\n",
    "Nous avons maintenant exploré notre jeu de données. Nous savons qu'il y a des lignes manquantes et des colonnes textuelles qu'il va falloir encoder. Voyons comment faire cela."
   ]
  },
  {
   "cell_type": "markdown",
   "metadata": {
    "_uuid": "46e6fcd047449f752a5906e26925d9fd8efb616a",
    "id": "a2vw9XkLsqE6"
   },
   "source": [
    "### Supprimer les colonnes inutiles\n",
    "- Nous pouvons supprimer 'Ticket' et 'PassengerId', \"cabin\" et \"name\", car ils ne contribuent pas à la classe cible (au moins pas dans une première analyse).\n",
    "- Supprimer 'Cabin' car il y a beaucoup de valeurs manquantes dans les données de formation et de test.\n",
    "\n",
    "5) Utilisez la fonction drop(columns=[\"col1\", col2\", ...]) pour supprimer les colonnes souhaitées :"
   ]
  },
  {
   "cell_type": "code",
   "execution_count": 64,
   "metadata": {
    "_uuid": "27bc0573edad4d91008c2c22ca73017fa29dd9d8",
    "id": "pwk62yLpsqE6"
   },
   "outputs": [],
   "source": [
    "train_data = train_data.drop(columns=['Ticket', 'PassengerId', 'Cabin','Name'])"
   ]
  },
  {
   "cell_type": "code",
   "execution_count": 65,
   "metadata": {
    "_uuid": "a3b9a9ca78771199145a41b0bdadfbcba6b48594",
    "colab": {
     "base_uri": "https://localhost:8080/",
     "height": 206
    },
    "id": "8Bh3r04AsqE6",
    "outputId": "53809b38-7f53-4c9b-8d50-69e441c9e0ed"
   },
   "outputs": [
    {
     "data": {
      "text/html": [
       "<div>\n",
       "<style scoped>\n",
       "    .dataframe tbody tr th:only-of-type {\n",
       "        vertical-align: middle;\n",
       "    }\n",
       "\n",
       "    .dataframe tbody tr th {\n",
       "        vertical-align: top;\n",
       "    }\n",
       "\n",
       "    .dataframe thead th {\n",
       "        text-align: right;\n",
       "    }\n",
       "</style>\n",
       "<table border=\"1\" class=\"dataframe\">\n",
       "  <thead>\n",
       "    <tr style=\"text-align: right;\">\n",
       "      <th></th>\n",
       "      <th>Survived</th>\n",
       "      <th>Pclass</th>\n",
       "      <th>Sex</th>\n",
       "      <th>Age</th>\n",
       "      <th>SibSp</th>\n",
       "      <th>Parch</th>\n",
       "      <th>Fare</th>\n",
       "      <th>Embarked</th>\n",
       "    </tr>\n",
       "  </thead>\n",
       "  <tbody>\n",
       "    <tr>\n",
       "      <th>0</th>\n",
       "      <td>0</td>\n",
       "      <td>3</td>\n",
       "      <td>male</td>\n",
       "      <td>22.0</td>\n",
       "      <td>1</td>\n",
       "      <td>0</td>\n",
       "      <td>7.2500</td>\n",
       "      <td>S</td>\n",
       "    </tr>\n",
       "    <tr>\n",
       "      <th>1</th>\n",
       "      <td>1</td>\n",
       "      <td>1</td>\n",
       "      <td>female</td>\n",
       "      <td>38.0</td>\n",
       "      <td>1</td>\n",
       "      <td>0</td>\n",
       "      <td>71.2833</td>\n",
       "      <td>C</td>\n",
       "    </tr>\n",
       "    <tr>\n",
       "      <th>2</th>\n",
       "      <td>1</td>\n",
       "      <td>3</td>\n",
       "      <td>female</td>\n",
       "      <td>26.0</td>\n",
       "      <td>0</td>\n",
       "      <td>0</td>\n",
       "      <td>7.9250</td>\n",
       "      <td>S</td>\n",
       "    </tr>\n",
       "    <tr>\n",
       "      <th>3</th>\n",
       "      <td>1</td>\n",
       "      <td>1</td>\n",
       "      <td>female</td>\n",
       "      <td>35.0</td>\n",
       "      <td>1</td>\n",
       "      <td>0</td>\n",
       "      <td>53.1000</td>\n",
       "      <td>S</td>\n",
       "    </tr>\n",
       "    <tr>\n",
       "      <th>4</th>\n",
       "      <td>0</td>\n",
       "      <td>3</td>\n",
       "      <td>male</td>\n",
       "      <td>35.0</td>\n",
       "      <td>0</td>\n",
       "      <td>0</td>\n",
       "      <td>8.0500</td>\n",
       "      <td>S</td>\n",
       "    </tr>\n",
       "  </tbody>\n",
       "</table>\n",
       "</div>"
      ],
      "text/plain": [
       "   Survived  Pclass     Sex   Age  SibSp  Parch     Fare Embarked\n",
       "0         0       3    male  22.0      1      0   7.2500        S\n",
       "1         1       1  female  38.0      1      0  71.2833        C\n",
       "2         1       3  female  26.0      0      0   7.9250        S\n",
       "3         1       1  female  35.0      1      0  53.1000        S\n",
       "4         0       3    male  35.0      0      0   8.0500        S"
      ]
     },
     "execution_count": 65,
     "metadata": {},
     "output_type": "execute_result"
    }
   ],
   "source": [
    "train_data.head()"
   ]
  },
  {
   "cell_type": "markdown",
   "metadata": {
    "id": "uRtP8PyI18Or"
   },
   "source": [
    "### Encoder les colonnes textuelles en nombre\n",
    "\n",
    "6) A l'aide de la fonction OrdinalEncoder de sklearn, encoder les colonnes Sex et Embarked.\n",
    "\n",
    "Les méhodes de skleanr fonctionnent en 4 étapes :\n",
    "\n",
    "a) import des librairies :\n",
    "\n",
    "from sklearn.preprocessing import ***\n",
    "\n",
    "b) Instantiation d'un objet \"preprocessor\" :\n",
    "\n",
    " encoder = ***()\n",
    "\n",
    " c) Lecture des données initiales par notre objet (pas de retour)\n",
    "\n",
    " ***.fit(my_dataset)\n",
    "\n",
    " d) Application de mon objet pour propreccesser un jeu de données :               \n",
    "\n",
    "new_dataset =  ***.transform(my_dataset_to_preprocess)\n",
    "\n"
   ]
  },
  {
   "cell_type": "code",
   "execution_count": 66,
   "metadata": {
    "id": "PgqetXTJ126v"
   },
   "outputs": [],
   "source": [
    "from sklearn.preprocessing import OrdinalEncoder"
   ]
  },
  {
   "cell_type": "code",
   "execution_count": 67,
   "metadata": {
    "id": "LYnE8Jpv14Tk"
   },
   "outputs": [],
   "source": [
    " encoder = OrdinalEncoder()\n",
    " encoder.fit(train_data[[\"Sex\", \"Embarked\"]])\n",
    " train_data[[\"Sex\", \"Embarked\"]] = encoder.transform(train_data[[\"Sex\", \"Embarked\"]])"
   ]
  },
  {
   "cell_type": "code",
   "execution_count": 68,
   "metadata": {
    "_uuid": "dba5de957b5b53c069b1799323b627d3a8fb83d3",
    "colab": {
     "base_uri": "https://localhost:8080/",
     "height": 206
    },
    "id": "I-UXaKQksqE7",
    "outputId": "4a1b35ee-8b04-46a2-bdb8-bf0a8b0ae758"
   },
   "outputs": [
    {
     "data": {
      "text/html": [
       "<div>\n",
       "<style scoped>\n",
       "    .dataframe tbody tr th:only-of-type {\n",
       "        vertical-align: middle;\n",
       "    }\n",
       "\n",
       "    .dataframe tbody tr th {\n",
       "        vertical-align: top;\n",
       "    }\n",
       "\n",
       "    .dataframe thead th {\n",
       "        text-align: right;\n",
       "    }\n",
       "</style>\n",
       "<table border=\"1\" class=\"dataframe\">\n",
       "  <thead>\n",
       "    <tr style=\"text-align: right;\">\n",
       "      <th></th>\n",
       "      <th>Survived</th>\n",
       "      <th>Pclass</th>\n",
       "      <th>Sex</th>\n",
       "      <th>Age</th>\n",
       "      <th>SibSp</th>\n",
       "      <th>Parch</th>\n",
       "      <th>Fare</th>\n",
       "      <th>Embarked</th>\n",
       "    </tr>\n",
       "  </thead>\n",
       "  <tbody>\n",
       "    <tr>\n",
       "      <th>0</th>\n",
       "      <td>0</td>\n",
       "      <td>3</td>\n",
       "      <td>1.0</td>\n",
       "      <td>22.0</td>\n",
       "      <td>1</td>\n",
       "      <td>0</td>\n",
       "      <td>7.2500</td>\n",
       "      <td>2.0</td>\n",
       "    </tr>\n",
       "    <tr>\n",
       "      <th>1</th>\n",
       "      <td>1</td>\n",
       "      <td>1</td>\n",
       "      <td>0.0</td>\n",
       "      <td>38.0</td>\n",
       "      <td>1</td>\n",
       "      <td>0</td>\n",
       "      <td>71.2833</td>\n",
       "      <td>0.0</td>\n",
       "    </tr>\n",
       "    <tr>\n",
       "      <th>2</th>\n",
       "      <td>1</td>\n",
       "      <td>3</td>\n",
       "      <td>0.0</td>\n",
       "      <td>26.0</td>\n",
       "      <td>0</td>\n",
       "      <td>0</td>\n",
       "      <td>7.9250</td>\n",
       "      <td>2.0</td>\n",
       "    </tr>\n",
       "    <tr>\n",
       "      <th>3</th>\n",
       "      <td>1</td>\n",
       "      <td>1</td>\n",
       "      <td>0.0</td>\n",
       "      <td>35.0</td>\n",
       "      <td>1</td>\n",
       "      <td>0</td>\n",
       "      <td>53.1000</td>\n",
       "      <td>2.0</td>\n",
       "    </tr>\n",
       "    <tr>\n",
       "      <th>4</th>\n",
       "      <td>0</td>\n",
       "      <td>3</td>\n",
       "      <td>1.0</td>\n",
       "      <td>35.0</td>\n",
       "      <td>0</td>\n",
       "      <td>0</td>\n",
       "      <td>8.0500</td>\n",
       "      <td>2.0</td>\n",
       "    </tr>\n",
       "  </tbody>\n",
       "</table>\n",
       "</div>"
      ],
      "text/plain": [
       "   Survived  Pclass  Sex   Age  SibSp  Parch     Fare  Embarked\n",
       "0         0       3  1.0  22.0      1      0   7.2500       2.0\n",
       "1         1       1  0.0  38.0      1      0  71.2833       0.0\n",
       "2         1       3  0.0  26.0      0      0   7.9250       2.0\n",
       "3         1       1  0.0  35.0      1      0  53.1000       2.0\n",
       "4         0       3  1.0  35.0      0      0   8.0500       2.0"
      ]
     },
     "execution_count": 68,
     "metadata": {},
     "output_type": "execute_result"
    }
   ],
   "source": [
    "train_data.head()"
   ]
  },
  {
   "cell_type": "markdown",
   "metadata": {
    "_uuid": "43bd12b7922dddd6ccd424045b998976f42bf58b",
    "id": "p86zti3csqE-"
   },
   "source": [
    "### Traitement des valeurs manquantes"
   ]
  },
  {
   "cell_type": "code",
   "execution_count": 69,
   "metadata": {
    "_uuid": "73a3569d85083b3951659d01ab3528ed325906aa",
    "colab": {
     "base_uri": "https://localhost:8080/"
    },
    "id": "uk_Mzm2vsqE_",
    "outputId": "b4d80a76-82d0-4060-c9ce-be39fdb22837"
   },
   "outputs": [
    {
     "data": {
      "text/plain": [
       "Survived      0\n",
       "Pclass        0\n",
       "Sex           0\n",
       "Age         177\n",
       "SibSp         0\n",
       "Parch         0\n",
       "Fare          0\n",
       "Embarked      2\n",
       "dtype: int64"
      ]
     },
     "execution_count": 69,
     "metadata": {},
     "output_type": "execute_result"
    }
   ],
   "source": [
    "train_data.isnull().sum()"
   ]
  },
  {
   "cell_type": "markdown",
   "metadata": {
    "_uuid": "cc7175778debba5cdc378043062eaa1edf3ebc2e",
    "id": "GLdwaGY_sqE_"
   },
   "source": [
    "### Imputer les valeurs manquantes.\n",
    "7) A l'aide de la libraire sklearn , identifier dans cette page https://scikit-learn.org/stable/modules/classes.html#module-sklearn.impute la méthode que vous souhaitez pour remplir les valeurs manquantes.\n",
    "Attention sklearn ne prend pas en entrée un pd.Series mais un array ou np.Array. Convertissez donc votre Serie à l'aide de Series.values\n",
    "Ensuite vérifiez la \"shape\" de sortie de l'objet, rechanger sa shape si besoin"
   ]
  },
  {
   "cell_type": "code",
   "execution_count": 70,
   "metadata": {
    "id": "wAb3BnEq4zMk"
   },
   "outputs": [],
   "source": [
    "from sklearn.impute import SimpleImputer\n",
    "\n",
    "imp_mean = SimpleImputer( strategy='mean')\n",
    "train_data['Embarked'] = imp_mean.fit_transform(train_data['Embarked'].values.reshape(-1,1))\n",
    "from sklearn.impute import SimpleImputer\n",
    "\n",
    "imp_mean = SimpleImputer( strategy='mean')\n",
    "train_data['Age'] = imp_mean.fit_transform(train_data['Age'].values.reshape(-1,1))"
   ]
  },
  {
   "cell_type": "code",
   "execution_count": 71,
   "metadata": {
    "_uuid": "0c10d163df3789aaea68e31bcc64014da4490d9b",
    "colab": {
     "base_uri": "https://localhost:8080/"
    },
    "id": "4eo4VII3sqE_",
    "outputId": "3ab17d94-fdcd-4e0a-c83f-a284e1def0a4"
   },
   "outputs": [
    {
     "data": {
      "text/plain": [
       "0"
      ]
     },
     "execution_count": 71,
     "metadata": {},
     "output_type": "execute_result"
    }
   ],
   "source": [
    "train_data['Embarked'].isnull().sum()"
   ]
  },
  {
   "cell_type": "markdown",
   "metadata": {
    "_uuid": "1b1542b87539bf8f743cfa99ab5e24bd4c736d9c",
    "id": "nApzPXC_sqE_"
   },
   "source": [
    "### Missing values - 'Age'\n",
    "- Let's find the columns that are useful to predict the value of Age."
   ]
  },
  {
   "cell_type": "code",
   "execution_count": 72,
   "metadata": {
    "_uuid": "f0730124970470fa66b832b5fc8ad2d460f44fea",
    "colab": {
     "base_uri": "https://localhost:8080/"
    },
    "id": "594gLx9BsqFA",
    "outputId": "9ab4a326-4df9-4bae-c0f8-fd2fe4905efd"
   },
   "outputs": [
    {
     "data": {
      "text/plain": [
       "Survived    0\n",
       "Pclass      0\n",
       "Sex         0\n",
       "Age         0\n",
       "SibSp       0\n",
       "Parch       0\n",
       "Fare        0\n",
       "Embarked    0\n",
       "dtype: int64"
      ]
     },
     "execution_count": 72,
     "metadata": {},
     "output_type": "execute_result"
    }
   ],
   "source": [
    "train_data.isnull().sum()"
   ]
  },
  {
   "cell_type": "markdown",
   "metadata": {
    "_uuid": "18d27f09a4832240347d12eb465df32a1435073d",
    "id": "qzswu4hosqFA"
   },
   "source": [
    "Il n'y a plus de données manquantes ! "
   ]
  },
  {
   "cell_type": "markdown",
   "metadata": {
    "id": "zYUGCF1j0BZS"
   },
   "source": [
    "### Feature engineering : réer une nouvelle caractéristique \"Taille de la famille\" à partir des caractéristiques \"SibSp\" et \"Parch\".\n",
    "\n",
    "8) Créer une colonne qui combine SibSp et Parch !"
   ]
  },
  {
   "cell_type": "code",
   "execution_count": 73,
   "metadata": {
    "id": "0EFuXtWn0Bj4"
   },
   "outputs": [],
   "source": [
    "train_data['FamilySize'] = train_data['SibSp'] + train_data['Parch'] "
   ]
  },
  {
   "cell_type": "markdown",
   "metadata": {
    "id": "FErQLKjA77Um"
   },
   "source": [
    "# Model \n",
    "Entrainement d'un premier modèle de ML !\n",
    "\n",
    "8) Créez 2 variables X et y.\n",
    "X contient toutes les colonnes sauf Survived, y contient Survived"
   ]
  },
  {
   "cell_type": "code",
   "execution_count": 74,
   "metadata": {
    "id": "4RdJH2IM76DR"
   },
   "outputs": [],
   "source": [
    "X = train_data[[\"Sex\", \"Fare\", \"FamilySize\"]]\n",
    "# X = train_data[[\"Sex\", \"Age\", \"Fare\", \"FamilySize\"]]\n",
    "y = train_data[\"Survived\"]"
   ]
  },
  {
   "cell_type": "markdown",
   "metadata": {
    "id": "Gj_JYLN48vuA"
   },
   "source": [
    "## Séparation du jeu de données\n",
    "\n",
    "9) à l'aide de la fonction train_test_split de sklearn, séparez votre jeu de données en un jeu d'entrainement et de validation"
   ]
  },
  {
   "cell_type": "code",
   "execution_count": 75,
   "metadata": {
    "id": "HE5Xg9Eg8PT2"
   },
   "outputs": [],
   "source": [
    "from sklearn.model_selection import train_test_split\n",
    "\n",
    "X_train, X_val, y_train, y_val = train_test_split(X, y, test_size = 0.2, random_state = 0)"
   ]
  },
  {
   "cell_type": "markdown",
   "metadata": {
    "id": "t_SlvWRk9MI_"
   },
   "source": [
    "10) "
   ]
  },
  {
   "cell_type": "markdown",
   "metadata": {
    "id": "GFNB5LJs9LDH"
   },
   "source": [
    "10 ) A l'aide du modèle LogisticRegression, instancié un modèle et entrainez le ! \n",
    "\n",
    "from sklearn.linear_model import LogisticRegression"
   ]
  },
  {
   "cell_type": "code",
   "execution_count": 76,
   "metadata": {
    "colab": {
     "base_uri": "https://localhost:8080/",
     "height": 75
    },
    "id": "gj7rEDcZ9D_J",
    "outputId": "0e740737-fcb8-4329-c4ef-6d33e461c387"
   },
   "outputs": [
    {
     "data": {
      "text/plain": [
       "LogisticRegression(random_state=0)"
      ]
     },
     "execution_count": 76,
     "metadata": {},
     "output_type": "execute_result"
    }
   ],
   "source": [
    "# train a logistic regression model on the training set\n",
    "from sklearn.linear_model import LogisticRegression\n",
    "\n",
    "# instantiate the model\n",
    "logreg = LogisticRegression( random_state=0)\n",
    "# fit the model\n",
    "logreg.fit(X_train, y_train)"
   ]
  },
  {
   "cell_type": "markdown",
   "metadata": {
    "id": "tyte0BAu9bKK"
   },
   "source": [
    "11) Utilisez le modèle pour appliquer le modèle sur le jeu de données de validation"
   ]
  },
  {
   "cell_type": "code",
   "execution_count": 77,
   "metadata": {
    "id": "qGmlwgYu9J_N"
   },
   "outputs": [],
   "source": [
    "y_val_pred = logreg.predict(X_val)"
   ]
  },
  {
   "cell_type": "markdown",
   "metadata": {
    "id": "0GGMxNXm-BZj"
   },
   "source": [
    "Comment savoir si votre modèle est performant ?\n",
    "\n",
    "Réponse au prochain épisode ;) (demain)"
   ]
  },
  {
   "cell_type": "markdown",
   "metadata": {
    "id": "qOgQDfLFEwil"
   },
   "source": [
    "# Evaluation"
   ]
  },
  {
   "cell_type": "markdown",
   "metadata": {
    "id": "J8SH54XuFSwH"
   },
   "source": [
    "Comme vu dans le cours, pour diagnostiquer notre modèle et conclure sur sa performance nous devons utiliser plusieurs outils, les metrics, qui vont nous permettre de mesurer sa performance. Le ML est un domaine empirique, il faut donc réalister ces étapes un certain nombre de fois jusqu'à obtenir un modèle convenable."
   ]
  },
  {
   "cell_type": "markdown",
   "metadata": {
    "id": "jJhP-YzzFXWW"
   },
   "source": [
    "# accuracy"
   ]
  },
  {
   "cell_type": "markdown",
   "metadata": {
    "id": "sKBYtVRPFc6H"
   },
   "source": [
    "12 ) Utilisez la méthode accuracy de sklearn pour mesurer la performance de votre modèle sur le jeu d'entrainement ET le jeu de test : "
   ]
  },
  {
   "cell_type": "code",
   "execution_count": 78,
   "metadata": {
    "colab": {
     "base_uri": "https://localhost:8080/"
    },
    "id": "YtNldpYLFkK2",
    "outputId": "04c59b95-fe46-4fdc-fca3-24370fe5b9b7"
   },
   "outputs": [
    {
     "name": "stdout",
     "output_type": "stream",
     "text": [
      "acc train score : 0.7879213483146067 , acc val score : 0.7988826815642458\n"
     ]
    }
   ],
   "source": [
    "from sklearn.metrics import accuracy_score\n",
    "y_train_pred = logreg.predict(X_train)\n",
    "acc_score_train = accuracy_score(y_train, y_train_pred)\n",
    "acc_score_pred = accuracy_score(y_val, y_val_pred)\n",
    "print(\"acc train score : {} , acc val score : {}\".format(acc_score_train, acc_score_pred))\n"
   ]
  },
  {
   "cell_type": "code",
   "execution_count": 79,
   "metadata": {},
   "outputs": [
    {
     "name": "stdout",
     "output_type": "stream",
     "text": [
      "prec train score : 0.7520661157024794 , prec val score : 0.7538461538461538\n"
     ]
    }
   ],
   "source": [
    "from sklearn.metrics import precision_score\n",
    "prec_score_train = precision_score(y_train, y_train_pred)\n",
    "prec_score_pred = precision_score(y_val, y_val_pred)\n",
    "print(\"prec train score : {} , prec val score : {}\".format(prec_score_train, prec_score_pred))\n"
   ]
  },
  {
   "cell_type": "code",
   "execution_count": 42,
   "metadata": {},
   "outputs": [
    {
     "name": "stdout",
     "output_type": "stream",
     "text": [
      "rec train score : 0.6703296703296703 , rec val score : 0.7101449275362319\n"
     ]
    }
   ],
   "source": [
    "from sklearn.metrics import recall_score\n",
    "rec_score_train = recall_score(y_train, y_train_pred)\n",
    "rec_score_pred = recall_score(y_val, y_val_pred)\n",
    "print(\"rec train score : {} , rec val score : {}\".format(rec_score_train, rec_score_pred))"
   ]
  },
  {
   "cell_type": "markdown",
   "metadata": {
    "id": "3k-i_MFYXj5z"
   },
   "source": [
    "Que pouvez-vous en conclure ?"
   ]
  },
  {
   "cell_type": "markdown",
   "metadata": {
    "id": "8qw8yVe4XtFi"
   },
   "source": [
    "13) Générez une matrice de confusion sur les 2 jeux de données : entrainemenet et validatio à partir de cette fonction => https://scikit-learn.org/stable/modules/generated/sklearn.metrics.confusion_matrix.html"
   ]
  },
  {
   "cell_type": "code",
   "execution_count": 87,
   "metadata": {
    "id": "0ixA-kRfVkYC"
   },
   "outputs": [],
   "source": [
    "from sklearn.metrics import confusion_matrix\n",
    "conf_train = confusion_matrix(y_train, y_train_pred)\n",
    "conf_val = confusion_matrix(y_val, y_val_pred)\n"
   ]
  },
  {
   "cell_type": "markdown",
   "metadata": {
    "id": "AYSwEt5JY6Dh"
   },
   "source": [
    "14) A partir de la matrice de confusion créée, utilisez la méthode ConfusionMatrixDisplay de sklearn pour l'afficher"
   ]
  },
  {
   "cell_type": "code",
   "execution_count": 79,
   "metadata": {
    "colab": {
     "base_uri": "https://localhost:8080/",
     "height": 449
    },
    "id": "GGFD_VMiYT-8",
    "outputId": "832b5c43-bad9-4ee0-870b-d20c10c9d9b6"
   },
   "outputs": [
    {
     "data": {
      "image/png": "[encoded data removed]",
      "text/plain": [
       "<Figure size 640x480 with 2 Axes>"
      ]
     },
     "metadata": {},
     "output_type": "display_data"
    }
   ],
   "source": [
    "from sklearn.metrics import confusion_matrix, ConfusionMatrixDisplay\n",
    "disp = ConfusionMatrixDisplay(confusion_matrix=conf_train,\n",
    "                              display_labels=logreg.classes_)\n",
    "disp.plot()\n",
    "plt.show()\n"
   ]
  },
  {
   "cell_type": "code",
   "execution_count": 80,
   "metadata": {
    "colab": {
     "base_uri": "https://localhost:8080/",
     "height": 449
    },
    "id": "Axr4JtC2ZHGc",
    "outputId": "1980f677-c6ec-4a63-f766-3a053cd67081"
   },
   "outputs": [
    {
     "data": {
      "image/png": "[encoded data removed]",
      "text/plain": [
       "<Figure size 640x480 with 2 Axes>"
      ]
     },
     "metadata": {},
     "output_type": "display_data"
    }
   ],
   "source": [
    "disp = ConfusionMatrixDisplay(confusion_matrix=conf_val,\n",
    "                              display_labels=logreg.classes_)\n",
    "disp.plot()\n",
    "plt.show()"
   ]
  },
  {
   "cell_type": "markdown",
   "metadata": {
    "id": "ICH3SpvwaNh8"
   },
   "source": [
    "Mettons ça en pourcentage : \n",
    "Utilisez la foncrion suivante pour afficher en pourcent les 2 matrices de confusions"
   ]
  },
  {
   "cell_type": "code",
   "execution_count": 88,
   "metadata": {
    "colab": {
     "base_uri": "https://localhost:8080/",
     "height": 1000
    },
    "id": "OOYWPyLBZ4jA",
    "outputId": "5031e407-338a-4772-9842-5a71d44c7a76"
   },
   "outputs": [
    {
     "data": {
      "image/png": "[encoded data removed]",
      "text/plain": [
       "<Figure size 1000x1000 with 2 Axes>"
      ]
     },
     "metadata": {},
     "output_type": "display_data"
    },
    {
     "data": {
      "image/png": "[encoded data removed]",
      "text/plain": [
       "<Figure size 1000x1000 with 2 Axes>"
      ]
     },
     "metadata": {},
     "output_type": "display_data"
    }
   ],
   "source": [
    "def show_cm_by_percent(cm):\n",
    "  cmn = cm.astype('float') / cm.sum(axis=1)[:, np.newaxis]\n",
    "  fig, ax = plt.subplots(figsize=(10,10))\n",
    "  sns.heatmap(cmn, annot=True, fmt='.2f')\n",
    "  plt.ylabel('Actual')\n",
    "  plt.xlabel('Predicted')\n",
    "  plt.show(block=False)\n",
    "\n",
    "show_cm_by_percent(conf_train)\n",
    "show_cm_by_percent(conf_val)"
   ]
  },
  {
   "cell_type": "markdown",
   "metadata": {
    "id": "QzYBJK78axhD"
   },
   "source": [
    "## Courbe ROC"
   ]
  },
  {
   "cell_type": "code",
   "execution_count": 89,
   "metadata": {
    "scrolled": true
   },
   "outputs": [
    {
     "data": {
      "text/plain": [
       "array([[0.80445016, 0.19554984],\n",
       "       [0.81725875, 0.18274125],\n",
       "       [0.92760489, 0.07239511],\n",
       "       [0.07695717, 0.92304283],\n",
       "       [0.34654868, 0.65345132],\n",
       "       [0.7721259 , 0.2278741 ],\n",
       "       [0.0556682 , 0.9443318 ],\n",
       "       [0.07990906, 0.92009094],\n",
       "       [0.67928285, 0.32071715],\n",
       "       [0.25679468, 0.74320532],\n",
       "       [0.85282135, 0.14717865],\n",
       "       [0.24370358, 0.75629642],\n",
       "       [0.81689727, 0.18310273],\n",
       "       [0.31705988, 0.68294012],\n",
       "       [0.12122374, 0.87877626],\n",
       "       [0.25535487, 0.74464513],\n",
       "       [0.8142142 , 0.1857858 ],\n",
       "       [0.84159826, 0.15840174],\n",
       "       [0.81635401, 0.18364599],\n",
       "       [0.85181293, 0.14818707],\n",
       "       [0.81001658, 0.18998342],\n",
       "       [0.05689657, 0.94310343],\n",
       "       [0.81691988, 0.18308012],\n",
       "       [0.7710603 , 0.2289397 ],\n",
       "       [0.25082122, 0.74917878],\n",
       "       [0.1114154 , 0.8885846 ],\n",
       "       [0.8166334 , 0.1833666 ],\n",
       "       [0.25559455, 0.74440545],\n",
       "       [0.263668  , 0.736332  ],\n",
       "       [0.50020536, 0.49979464],\n",
       "       [0.81524097, 0.18475903],\n",
       "       [0.24931879, 0.75068121],\n",
       "       [0.81371062, 0.18628938],\n",
       "       [0.76131277, 0.23868723],\n",
       "       [0.85404416, 0.14595584],\n",
       "       [0.7721259 , 0.2278741 ],\n",
       "       [0.819237  , 0.180763  ],\n",
       "       [0.81187057, 0.18812943],\n",
       "       [0.80720943, 0.19279057],\n",
       "       [0.80532052, 0.19467948],\n",
       "       [0.76075589, 0.23924411],\n",
       "       [0.81784498, 0.18215502],\n",
       "       [0.80437082, 0.19562918],\n",
       "       [0.91854474, 0.08145526],\n",
       "       [0.15161049, 0.84838951],\n",
       "       [0.8166334 , 0.1833666 ],\n",
       "       [0.8166334 , 0.1833666 ],\n",
       "       [0.04321713, 0.95678287],\n",
       "       [0.80720943, 0.19279057],\n",
       "       [0.75976405, 0.24023595],\n",
       "       [0.773188  , 0.226812  ],\n",
       "       [0.7475715 , 0.2524285 ],\n",
       "       [0.3256305 , 0.6743695 ],\n",
       "       [0.8166334 , 0.1833666 ],\n",
       "       [0.77382358, 0.22617642],\n",
       "       [0.77307512, 0.22692488],\n",
       "       [0.78042092, 0.21957908],\n",
       "       [0.55544732, 0.44455268],\n",
       "       [0.92859341, 0.07140659],\n",
       "       [0.8621688 , 0.1378312 ],\n",
       "       [0.81783741, 0.18216259],\n",
       "       [0.45528426, 0.54471574],\n",
       "       [0.15989062, 0.84010938],\n",
       "       [0.75218684, 0.24781316],\n",
       "       [0.35789481, 0.64210519],\n",
       "       [0.81689727, 0.18310273],\n",
       "       [0.2160507 , 0.7839493 ],\n",
       "       [0.81043195, 0.18956805],\n",
       "       [0.31771487, 0.68228513],\n",
       "       [0.20782949, 0.79217051],\n",
       "       [0.263668  , 0.736332  ],\n",
       "       [0.77260086, 0.22739914],\n",
       "       [0.70228564, 0.29771436],\n",
       "       [0.81635401, 0.18364599],\n",
       "       [0.81635401, 0.18364599],\n",
       "       [0.39147122, 0.60852878],\n",
       "       [0.43100768, 0.56899232],\n",
       "       [0.77798507, 0.22201493],\n",
       "       [0.81915497, 0.18084503],\n",
       "       [0.8033221 , 0.1966779 ],\n",
       "       [0.82633051, 0.17366949],\n",
       "       [0.87239509, 0.12760491],\n",
       "       [0.31771487, 0.68228513],\n",
       "       [0.81685205, 0.18314795],\n",
       "       [0.78155855, 0.21844145],\n",
       "       [0.12808367, 0.87191633],\n",
       "       [0.02350646, 0.97649354],\n",
       "       [0.25138974, 0.74861026],\n",
       "       [0.24931879, 0.75068121],\n",
       "       [0.63064254, 0.36935746],\n",
       "       [0.83050146, 0.16949854],\n",
       "       [0.8166334 , 0.1833666 ],\n",
       "       [0.85816915, 0.14183085],\n",
       "       [0.1956497 , 0.8043503 ],\n",
       "       [0.50020536, 0.49979464],\n",
       "       [0.81783741, 0.18216259],\n",
       "       [0.34859384, 0.65140616],\n",
       "       [0.91854474, 0.08145526],\n",
       "       [0.78042092, 0.21957908],\n",
       "       [0.65955527, 0.34044473],\n",
       "       [0.94587997, 0.05412003],\n",
       "       [0.8230965 , 0.1769035 ],\n",
       "       [0.81707808, 0.18292192],\n",
       "       [0.88283964, 0.11716036],\n",
       "       [0.35976111, 0.64023889],\n",
       "       [0.33297511, 0.66702489],\n",
       "       [0.24448452, 0.75551548],\n",
       "       [0.46462852, 0.53537148],\n",
       "       [0.8230965 , 0.1769035 ],\n",
       "       [0.28904726, 0.71095274],\n",
       "       [0.81670872, 0.18329128],\n",
       "       [0.20138152, 0.79861848],\n",
       "       [0.71217927, 0.28782073],\n",
       "       [0.25490491, 0.74509509],\n",
       "       [0.71629113, 0.28370887],\n",
       "       [0.24370358, 0.75629642],\n",
       "       [0.28817826, 0.71182174],\n",
       "       [0.0303542 , 0.9696458 ],\n",
       "       [0.8166334 , 0.1833666 ],\n",
       "       [0.31705988, 0.68294012],\n",
       "       [0.71217927, 0.28782073],\n",
       "       [0.81561262, 0.18438738],\n",
       "       [0.81524097, 0.18475903],\n",
       "       [0.83050146, 0.16949854],\n",
       "       [0.81525609, 0.18474391],\n",
       "       [0.77382358, 0.22617642],\n",
       "       [0.81784498, 0.18215502],\n",
       "       [0.85294153, 0.14705847],\n",
       "       [0.83050146, 0.16949854],\n",
       "       [0.80810176, 0.19189824],\n",
       "       [0.25559455, 0.74440545],\n",
       "       [0.81635401, 0.18364599],\n",
       "       [0.81816003, 0.18183997],\n",
       "       [0.30335145, 0.69664855],\n",
       "       [0.78155855, 0.21844145],\n",
       "       [0.81635401, 0.18364599],\n",
       "       [0.85297944, 0.14702056],\n",
       "       [0.30424664, 0.69575336],\n",
       "       [0.8230965 , 0.1769035 ],\n",
       "       [0.80720943, 0.19279057],\n",
       "       [0.80720943, 0.19279057],\n",
       "       [0.14173779, 0.85826221],\n",
       "       [0.81635401, 0.18364599],\n",
       "       [0.25790219, 0.74209781],\n",
       "       [0.20192002, 0.79807998],\n",
       "       [0.25307185, 0.74692815],\n",
       "       [0.80720943, 0.19279057],\n",
       "       [0.263668  , 0.736332  ],\n",
       "       [0.0239908 , 0.9760092 ],\n",
       "       [0.81524097, 0.18475903],\n",
       "       [0.69897765, 0.30102235],\n",
       "       [0.24487563, 0.75512437],\n",
       "       [0.25138974, 0.74861026],\n",
       "       [0.81685205, 0.18314795],\n",
       "       [0.24593933, 0.75406067],\n",
       "       [0.81187057, 0.18812943],\n",
       "       [0.29165305, 0.70834695],\n",
       "       [0.81187057, 0.18812943],\n",
       "       [0.25559455, 0.74440545],\n",
       "       [0.39649997, 0.60350003],\n",
       "       [0.8166334 , 0.1833666 ],\n",
       "       [0.81783741, 0.18216259],\n",
       "       [0.19295997, 0.80704003],\n",
       "       [0.40640329, 0.59359671],\n",
       "       [0.88361914, 0.11638086],\n",
       "       [0.81707808, 0.18292192],\n",
       "       [0.81815248, 0.18184752],\n",
       "       [0.81681441, 0.18318559],\n",
       "       [0.8166334 , 0.1833666 ],\n",
       "       [0.81524097, 0.18475903],\n",
       "       [0.81635401, 0.18364599],\n",
       "       [0.17156259, 0.82843741],\n",
       "       [0.81779994, 0.18220006],\n",
       "       [0.80437082, 0.19562918],\n",
       "       [0.25679468, 0.74320532],\n",
       "       [0.81635401, 0.18364599],\n",
       "       [0.11082012, 0.88917988],\n",
       "       [0.81670872, 0.18329128],\n",
       "       [0.81635401, 0.18364599]])"
      ]
     },
     "execution_count": 89,
     "metadata": {},
     "output_type": "execute_result"
    }
   ],
   "source": [
    "logreg.predict_proba(X_val)"
   ]
  },
  {
   "cell_type": "code",
   "execution_count": 103,
   "metadata": {
    "id": "KBYwtYBjavl8"
   },
   "outputs": [],
   "source": [
    "\n",
    "from sklearn.metrics import roc_curve\n",
    "from sklearn.metrics import roc_auc_score\n",
    "from matplotlib import pyplot\n",
    "\n",
    "def plot_roc(X, y, model):\n",
    "  lr_probs = model.predict_proba(X)\n",
    "  # keep probabilities for the positive outcome only\n",
    "  lr_probs = lr_probs[:, 1]\n",
    "  # calculate scores\n",
    "  ns_probs = [0 for _ in range(len(y))]\n",
    "\n",
    "  ns_auc = roc_auc_score(y, ns_probs)\n",
    "  lr_auc = roc_auc_score(y, lr_probs)\n",
    "  # summarize scores\n",
    "  # calculate roc curves\n",
    "  ns_fpr, ns_tpr, _ = roc_curve(y, ns_probs)\n",
    "  lr_fpr, lr_tpr, _ = roc_curve(y, lr_probs)\n",
    "  # plot the roc curve for the model\n",
    "  pyplot.plot(ns_fpr, ns_tpr, linestyle='--')\n",
    "  pyplot.plot(lr_fpr, lr_tpr, marker='.')\n",
    "  # axis labels\n",
    "  pyplot.xlabel('False Positive Rate')\n",
    "  pyplot.ylabel('True Positive Rate')\n",
    "  # show the legend\n",
    "  pyplot.legend()\n",
    "  # show the plot\n",
    "  pyplot.show()"
   ]
  },
  {
   "cell_type": "code",
   "execution_count": 104,
   "metadata": {
    "colab": {
     "base_uri": "https://localhost:8080/",
     "height": 936
    },
    "id": "rLP0_FNfd6u5",
    "outputId": "7c926bc6-6208-465c-c49b-9453bc813463"
   },
   "outputs": [
    {
     "name": "stderr",
     "output_type": "stream",
     "text": [
      "WARNING:matplotlib.legend:No artists with labels found to put in legend.  Note that artists whose label start with an underscore are ignored when legend() is called with no argument.\n"
     ]
    },
    {
     "data": {
      "image/png": "[encoded data removed]",
      "text/plain": [
       "<Figure size 640x480 with 1 Axes>"
      ]
     },
     "metadata": {},
     "output_type": "display_data"
    },
    {
     "name": "stderr",
     "output_type": "stream",
     "text": [
      "WARNING:matplotlib.legend:No artists with labels found to put in legend.  Note that artists whose label start with an underscore are ignored when legend() is called with no argument.\n"
     ]
    },
    {
     "data": {
      "image/png": "[encoded data removed]",
      "text/plain": [
       "<Figure size 640x480 with 1 Axes>"
      ]
     },
     "metadata": {},
     "output_type": "display_data"
    }
   ],
   "source": [
    "plot_roc(X_train, y_train, logreg)\n",
    "plot_roc(X_val, y_val, logreg)"
   ]
  },
  {
   "cell_type": "markdown",
   "metadata": {
    "id": "65DWV_URhshR"
   },
   "source": [
    "quelle serait la bonne valeur de seuil ?"
   ]
  },
  {
   "cell_type": "markdown",
   "metadata": {
    "id": "Cl44ALt6iJDP"
   },
   "source": [
    "15) reprenez le code existant pour appliquer le preprocessing sur le jeu de données Test et appliquez le le modèle. une fois le jeu de données de test inféré, avertiseez le formateur, il vous montrera comment obtenir le score sur kaggle."
   ]
  },
  {
   "cell_type": "code",
   "execution_count": 105,
   "metadata": {},
   "outputs": [],
   "source": [
    "from sklearn.model_selection import cross_validate \n",
    "\n",
    "logreg = LogisticRegression( random_state=0)\n",
    "scores = cross_validate(logreg, X, y, cv=5, scoring=['accuracy', 'recall','precision'])\n"
   ]
  },
  {
   "cell_type": "code",
   "execution_count": null,
   "metadata": {},
   "outputs": [],
   "source": [
    "print(\"\")"
   ]
  },
  {
   "cell_type": "code",
   "execution_count": 107,
   "metadata": {},
   "outputs": [],
   "source": [
    "def print_metrics(y_train, y_train_pred, y_val, y_val_pred):\n",
    "    acc_score_train = accuracy_score(y_train, y_train_pred)\n",
    "    acc_score_pred = accuracy_score(y_val, y_val_pred)\n",
    "    print(\"acc train score : {} , acc val score : {}\".format(acc_score_train, acc_score_pred))\n",
    "    prec_score_train = precision_score(y_train, y_train_pred)\n",
    "    prec_score_pred = precision_score(y_val, y_val_pred)\n",
    "    print(\"prec train score : {} , prec val score : {}\".format(prec_score_train, prec_score_pred))\n",
    "    rec_score_train = recall_score(y_train, y_train_pred)\n",
    "    rec_score_pred = recall_score(y_val, y_val_pred)\n",
    "    print(\"rec train score : {} , rec val score : {}\".format(rec_score_train, rec_score_pred))"
   ]
  },
  {
   "cell_type": "code",
   "execution_count": 132,
   "metadata": {},
   "outputs": [
    {
     "name": "stdout",
     "output_type": "stream",
     "text": [
      "Decision tree perf : \n",
      "acc train score : 0.8146067415730337 , acc val score : 0.8044692737430168\n",
      "prec train score : 0.7949790794979079 , prec val score : 0.765625\n",
      "rec train score : 0.6959706959706959 , rec val score : 0.7101449275362319\n"
     ]
    },
    {
     "data": {
      "text/plain": [
       "[Text(0.5, 0.875, 'X[0] <= 0.5\\ngini = 0.473\\nsamples = 712\\nvalue = [439, 273]'),\n",
       " Text(0.25, 0.625, 'X[2] <= 3.5\\ngini = 0.38\\nsamples = 247\\nvalue = [63, 184]'),\n",
       " Text(0.125, 0.375, 'X[1] <= 25.04\\ngini = 0.32\\nsamples = 220\\nvalue = [44, 176]'),\n",
       " Text(0.0625, 0.125, 'gini = 0.435\\nsamples = 125\\nvalue = [40, 85]'),\n",
       " Text(0.1875, 0.125, 'gini = 0.081\\nsamples = 95\\nvalue = [4, 91]'),\n",
       " Text(0.375, 0.375, 'X[1] <= 165.963\\ngini = 0.417\\nsamples = 27\\nvalue = [19, 8]'),\n",
       " Text(0.3125, 0.125, 'gini = 0.33\\nsamples = 24\\nvalue = [19, 5]'),\n",
       " Text(0.4375, 0.125, 'gini = 0.0\\nsamples = 3\\nvalue = [0, 3]'),\n",
       " Text(0.75, 0.625, 'X[1] <= 26.269\\ngini = 0.31\\nsamples = 465\\nvalue = [376, 89]'),\n",
       " Text(0.625, 0.375, 'X[2] <= 1.5\\ngini = 0.241\\nsamples = 335\\nvalue = [288, 47]'),\n",
       " Text(0.5625, 0.125, 'gini = 0.211\\nsamples = 301\\nvalue = [265, 36]'),\n",
       " Text(0.6875, 0.125, 'gini = 0.438\\nsamples = 34\\nvalue = [23, 11]'),\n",
       " Text(0.875, 0.375, 'X[1] <= 26.775\\ngini = 0.437\\nsamples = 130\\nvalue = [88, 42]'),\n",
       " Text(0.8125, 0.125, 'gini = 0.43\\nsamples = 16\\nvalue = [5, 11]'),\n",
       " Text(0.9375, 0.125, 'gini = 0.396\\nsamples = 114\\nvalue = [83, 31]')]"
      ]
     },
     "execution_count": 132,
     "metadata": {},
     "output_type": "execute_result"
    },
    {
     "data": {
      "image/png": "[encoded data removed]",
      "text/plain": [
       "<Figure size 432x288 with 1 Axes>"
      ]
     },
     "metadata": {
      "needs_background": "light"
     },
     "output_type": "display_data"
    }
   ],
   "source": [
    "from sklearn.tree import DecisionTreeClassifier\n",
    "from sklearn import tree\n",
    "print(\"Decision tree perf : \")\n",
    "clf = DecisionTreeClassifier(random_state=0, max_depth=3)\n",
    "clf.fit(X_train, y_train )\n",
    "y_train_pred = clf.predict(X_train)\n",
    "y_val_pred =  clf.predict(X_val)\n",
    "print_metrics(y_train, y_train_pred, y_val, y_val_pred)\n",
    "tree.plot_tree(clf)\n"
   ]
  },
  {
   "cell_type": "code",
   "execution_count": 121,
   "metadata": {},
   "outputs": [
    {
     "name": "stdout",
     "output_type": "stream",
     "text": [
      "RandomForestClassifier tree perf : \n",
      "acc train score : 0.800561797752809 , acc val score : 0.8100558659217877\n",
      "prec train score : 0.8018433179723502 , prec val score : 0.7966101694915254\n",
      "rec train score : 0.6373626373626373 , rec val score : 0.6811594202898551\n",
      "Features importances : [0.56205273 0.26979627 0.168151  ]\n"
     ]
    }
   ],
   "source": [
    "from sklearn.ensemble import RandomForestClassifier\n",
    "\n",
    "print(\"RandomForestClassifier tree perf : \")\n",
    "clf = RandomForestClassifier(max_depth=3, random_state=0, n_estimators=10)\n",
    "clf.fit(X_train, y_train )\n",
    "y_train_pred = clf.predict(X_train)\n",
    "y_val_pred =  clf.predict(X_val)\n",
    "print_metrics(y_train, y_train_pred, y_val, y_val_pred)\n",
    "print(\"Features importances : {}\".format(clf.feature_importances_))"
   ]
  },
  {
   "cell_type": "code",
   "execution_count": 133,
   "metadata": {},
   "outputs": [
    {
     "name": "stdout",
     "output_type": "stream",
     "text": [
      "svm tree perf : \n",
      "acc train score : 0.6643258426966292 , acc val score : 0.7206703910614525\n",
      "prec train score : 0.660377358490566 , prec val score : 0.8064516129032258\n",
      "rec train score : 0.2564102564102564 , rec val score : 0.36231884057971014\n"
     ]
    }
   ],
   "source": [
    "from sklearn import svm\n",
    "\n",
    "print(\"svm tree perf : \")\n",
    "clf = svm.SVC()\n",
    "clf.fit(X_train, y_train )\n",
    "y_train_pred = clf.predict(X_train)\n",
    "y_val_pred =  clf.predict(X_val)\n",
    "print_metrics(y_train, y_train_pred, y_val, y_val_pred)"
   ]
  },
  {
   "cell_type": "code",
   "execution_count": 134,
   "metadata": {},
   "outputs": [
    {
     "name": "stdout",
     "output_type": "stream",
     "text": [
      "RandomForestClassifier tree perf : \n",
      "acc train score : 0.8918539325842697 , acc val score : 0.8212290502793296\n",
      "prec train score : 0.8656716417910447 , prec val score : 0.7681159420289855\n",
      "rec train score : 0.8498168498168498 , rec val score : 0.7681159420289855\n"
     ]
    }
   ],
   "source": [
    "from sklearn.ensemble import GradientBoostingClassifier\n",
    "\n",
    "print(\"RandomForestClassifier tree perf : \")\n",
    "clf = GradientBoostingClassifier(n_estimators=10, learning_rate=1.0,   max_depth=4, random_state=0)\n",
    "clf.fit(X_train, y_train )\n",
    "y_train_pred = clf.predict(X_train)\n",
    "y_val_pred =  clf.predict(X_val)\n",
    "print_metrics(y_train, y_train_pred, y_val, y_val_pred)"
   ]
  },
  {
   "cell_type": "markdown",
   "metadata": {},
   "source": [
    "# Random Search "
   ]
  },
  {
   "cell_type": "code",
   "execution_count": 136,
   "metadata": {},
   "outputs": [
    {
     "data": {
      "text/plain": [
       "{'n_estimators': [10, 25, 41, 56, 72, 87, 103, 118, 134, 150],\n",
       " 'max_features': ['auto', 'sqrt'],\n",
       " 'max_depth': [10, 20, 30, 40, 50, 60, 70, 80, 90, 100, 110, None],\n",
       " 'min_samples_split': [2, 5, 10],\n",
       " 'min_samples_leaf': [1, 2, 4],\n",
       " 'bootstrap': [True, False]}"
      ]
     },
     "execution_count": 136,
     "metadata": {},
     "output_type": "execute_result"
    }
   ],
   "source": [
    "random_grid"
   ]
  },
  {
   "cell_type": "code",
   "execution_count": 130,
   "metadata": {},
   "outputs": [
    {
     "name": "stdout",
     "output_type": "stream",
     "text": [
      "Fitting 2 folds for each of 50 candidates, totalling 100 fits\n",
      " Best params : {'n_estimators': 87, 'min_samples_split': 5, 'min_samples_leaf': 2, 'max_features': 'sqrt', 'max_depth': 20, 'bootstrap': True}\n",
      "acc train score : 0.8778089887640449 , acc val score : 0.8603351955307262\n",
      "prec train score : 0.872 , prec val score : 0.8235294117647058\n",
      "rec train score : 0.7985347985347986 , rec val score : 0.8115942028985508\n"
     ]
    }
   ],
   "source": [
    "from sklearn.model_selection import RandomizedSearchCV\n",
    "# Number of trees in random forest\n",
    "n_estimators = [int(x) for x in np.linspace(start = 10, stop = 150, num = 10)]\n",
    "# Number of features to consider at every split\n",
    "max_features = ['auto', 'sqrt']\n",
    "# Maximum number of levels in tree\n",
    "max_depth = [int(x) for x in np.linspace(10, 110, num = 11)]\n",
    "max_depth.append(None)\n",
    "# Minimum number of samples required to split a node\n",
    "min_samples_split = [2, 5, 10]\n",
    "# Minimum number of samples required at each leaf node\n",
    "min_samples_leaf = [1, 2, 4]\n",
    "# Method of selecting samples for training each tree\n",
    "bootstrap = [True, False]\n",
    "# Create the random grid\n",
    "random_grid = {'n_estimators': n_estimators,\n",
    "               'max_features': max_features,\n",
    "               'max_depth': max_depth,\n",
    "               'min_samples_split': min_samples_split,\n",
    "               'min_samples_leaf': min_samples_leaf,\n",
    "               'bootstrap': bootstrap}\n",
    "\n",
    "rf = RandomForestClassifier()\n",
    "rf_random = RandomizedSearchCV(estimator = rf, param_distributions = random_grid, n_iter = 50, cv = 2,\n",
    "                               verbose=2, random_state=42, n_jobs = -1)\n",
    "rf_random.fit(X, y )\n",
    "print(\" Best params : {}\".format(rf_random.best_params_))\n",
    "\n",
    "\n",
    "y_train_pred = rf_random.best_estimator_.predict(X_train)\n",
    "y_val_pred =  rf_random.best_estimator_.predict(X_val)\n",
    "print_metrics(y_train, y_train_pred, y_val, y_val_pred)"
   ]
  },
  {
   "cell_type": "code",
   "execution_count": null,
   "metadata": {},
   "outputs": [],
   "source": [
    "from sklearn.ensemble import GradientBoostingClassifier\n",
    "\n",
    "print(\"RandomForestClassifier tree perf : \")\n",
    "GradientBoostingClassifier(n_estimators=100, learning_rate=1.0,\n",
    "...     max_depth=1, random_state=0).fit(X_train, y_train)\n",
    "clf.fit(X_train, y_train )\n",
    "y_train_pred = clf.predict(X_train)\n",
    "y_val_pred =  clf.predict(X_val)\n",
    "print_metrics(y_train, y_train_pred, y_val, y_val_pred)"
   ]
  },
  {
   "cell_type": "code",
   "execution_count": 140,
   "metadata": {},
   "outputs": [
    {
     "data": {
      "text/plain": [
       "RandomForestClassifier(max_depth=20, max_features='sqrt', min_samples_leaf=2,\n",
       "                       min_samples_split=5, n_estimators=87)"
      ]
     },
     "execution_count": 140,
     "metadata": {},
     "output_type": "execute_result"
    }
   ],
   "source": [
    "rf_random.best_estimator_"
   ]
  }
 ],
 "metadata": {
  "colab": {
   "provenance": []
  },
  "kernelspec": {
   "display_name": "Python 3 (ipykernel)",
   "language": "python",
   "name": "python3"
  },
  "language_info": {
   "codemirror_mode": {
    "name": "ipython",
    "version": 3
   },
   "file_extension": ".py",
   "mimetype": "text/x-python",
   "name": "python",
   "nbconvert_exporter": "python",
   "pygments_lexer": "ipython3",
   "version": "3.11.6"
  }
 },
 "nbformat": 4,
 "nbformat_minor": 4
}
